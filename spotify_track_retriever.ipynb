{
 "metadata": {
  "language_info": {
   "codemirror_mode": {
    "name": "ipython",
    "version": 3
   },
   "file_extension": ".py",
   "mimetype": "text/x-python",
   "name": "python",
   "nbconvert_exporter": "python",
   "pygments_lexer": "ipython3",
   "version": "3.7.4-final"
  },
  "orig_nbformat": 2,
  "kernelspec": {
   "name": "python_defaultSpec_1598264016497",
   "display_name": "Python 3.7.4 64-bit"
  }
 },
 "nbformat": 4,
 "nbformat_minor": 2,
 "cells": [
  {
   "cell_type": "markdown",
   "metadata": {},
   "source": [
    "SPOTIFY EDA"
   ]
  },
  {
   "cell_type": "code",
   "execution_count": null,
   "metadata": {},
   "outputs": [],
   "source": [
    "import pandas as pd\n",
    "\n",
    "import spotipy\n",
    "import json\n",
    "import csv\n",
    "from spotipy.oauth2 import SpotifyClientCredentials"
   ]
  },
  {
   "cell_type": "markdown",
   "metadata": {},
   "source": [
    "I will first load the data_by_artist.csv to a dataframe"
   ]
  },
  {
   "cell_type": "code",
   "execution_count": null,
   "metadata": {},
   "outputs": [],
   "source": [
    "artist_df = pd.read_csv('songs_dataset/data_by_artist.csv')\n",
    "artist_df.describe()"
   ]
  },
  {
   "cell_type": "code",
   "execution_count": null,
   "metadata": {},
   "outputs": [],
   "source": [
    "# INITIALIZE SPOTIFY API CREDS\n",
    "credentials = json.load(open('spotify_auth/authorization.json'))\n",
    "client_id = credentials['client_id']\n",
    "client_secret = credentials['client_secret']\n",
    "\n",
    "client_credentials_manager = SpotifyClientCredentials(client_id=client_id,client_secret=client_secret)\n",
    "\n",
    "sp = spotipy.Spotify(client_credentials_manager=client_credentials_manager)"
   ]
  },
  {
   "cell_type": "code",
   "execution_count": 83,
   "metadata": {
    "tags": []
   },
   "outputs": [],
   "source": [
    "no_result = []\n",
    "artist_id_list = []\n",
    "\n",
    "def search_artist(artist, market=None):\n",
    "    search_result = sp.search(artist, limit=20, offset=0, type='artist', market=market)\n",
    "\n",
    "    if not search_result['artists']['items']:\n",
    "        print('NO RESULT FOUND', artist) \n",
    "        no_result.append(artist)\n",
    "        return\n",
    "    for index in range(0,len(search_result['artists']['items'])):\n",
    "        result = search_result['artists']['items'][index]\n",
    "        if result['name'].lower() == artist.lower():\n",
    "            print('RESULT FOUND')\n",
    "            artist = {'ID': search_result['artists']['items'][index]['id'], 'ARTIST': artist}\n",
    "            artist_id_list.append(artist)\n",
    "            break\n",
    "        if index == len(search_result['artists']['items']) - 1:\n",
    "            no_result.append(artist)\n",
    "            print('NO RESULT FOUND', artist)"
   ]
  },
  {
   "cell_type": "code",
   "execution_count": null,
   "metadata": {
    "tags": []
   },
   "outputs": [],
   "source": [
    "for artist in artist_df['artists']:\n",
    "    search_artist(artist)"
   ]
  },
  {
   "cell_type": "markdown",
   "metadata": {},
   "source": [
    "I saved the id of artist on a csv so I don't have to run the method multiple times"
   ]
  },
  {
   "cell_type": "code",
   "execution_count": null,
   "metadata": {
    "tags": []
   },
   "outputs": [],
   "source": [
    "with open('artist_id.csv', mode='w', encoding='utf-8') as csv_file:\n",
    "    field_names = ['ID', 'ARTIST']\n",
    "    writer = csv.DictWriter(csv_file, fieldnames=field_names)\n",
    "    writer.writeheader()\n",
    "    writer.writerows(artist_id_list)\n",
    "        "
   ]
  },
  {
   "cell_type": "code",
   "execution_count": null,
   "metadata": {},
   "outputs": [],
   "source": [
    "len(no_result)"
   ]
  },
  {
   "cell_type": "code",
   "execution_count": null,
   "metadata": {},
   "outputs": [],
   "source": [
    "len(artist_id_list)"
   ]
  },
  {
   "cell_type": "markdown",
   "metadata": {},
   "source": [
    "There are 153 artist that the search method from API did not find. I tried to manually search them on gooogle and on the spotify app and some did not appear, some had multiple response some did not even have uploaded songs. Since this data is for personal use only I decided to skip this for now and will try to solve this issue in the future."
   ]
  },
  {
   "cell_type": "code",
   "execution_count": null,
   "metadata": {
    "tags": []
   },
   "outputs": [],
   "source": [
    "artist_id_df = pd.read_csv('artist_id.csv')\n",
    "artist_id_df[artist_id_df['ARTIST'] == 'Cinderella']\n",
    "search_result = sp.search('Cinderella', limit=1, offset=0, type='artist', market='PH')\n",
    "search_result"
   ]
  },
  {
   "cell_type": "markdown",
   "metadata": {},
   "source": [
    "After careful observation, some local artists in my country are missing from the list provided by the dataset. So after a few quick searches I retreived all the names of the local bands and artist in PH and now I have to search for them and retrieve their respective spotify IDs"
   ]
  },
  {
   "cell_type": "code",
   "execution_count": 62,
   "metadata": {},
   "outputs": [],
   "source": [
    "local_bands = open(\"songs_dataset/local_bands.txt\", encoding='utf-8').read().split(\"\\n\")\n",
    "# local_bands"
   ]
  },
  {
   "cell_type": "code",
   "execution_count": null,
   "metadata": {},
   "outputs": [],
   "source": [
    "local_singers = open(\"songs_dataset/local_singers.txt\", encoding='utf-8').read().split(\"\\n\")\n",
    "# local_singers"
   ]
  },
  {
   "cell_type": "code",
   "execution_count": 84,
   "metadata": {},
   "outputs": [],
   "source": [
    "no_result = []\n",
    "artist_id_list = []"
   ]
  },
  {
   "cell_type": "code",
   "execution_count": 85,
   "metadata": {
    "tags": []
   },
   "outputs": [
    {
     "output_type": "stream",
     "name": "stdout",
     "text": "RESULT FOUND\nRESULT FOUND\nRESULT FOUND\nRESULT FOUND\nRESULT FOUND\nRESULT FOUND\nRESULT FOUND\nRESULT FOUND\nRESULT FOUND\nRESULT FOUND\nRESULT FOUND\nRESULT FOUND\nRESULT FOUND\nRESULT FOUND\nRESULT FOUND\nRESULT FOUND\nRESULT FOUND\nRESULT FOUND\nRESULT FOUND\nRESULT FOUND\nRESULT FOUND\nRESULT FOUND\nNO RESULT FOUND Mak and the Dudes\nRESULT FOUND\nRESULT FOUND\nNO RESULT FOUND Mus'ka\nRESULT FOUND\nRESULT FOUND\nRESULT FOUND\nRESULT FOUND\nRESULT FOUND\nRESULT FOUND\nRESULT FOUND\nRESULT FOUND\nRESULT FOUND\nRESULT FOUND\nRESULT FOUND\nRESULT FOUND\nRESULT FOUND\nRESULT FOUND\nRESULT FOUND\nRESULT FOUND\nRESULT FOUND\nRESULT FOUND\nRESULT FOUND\nRESULT FOUND\nRESULT FOUND\nRESULT FOUND\nRESULT FOUND\nRESULT FOUND\nRESULT FOUND\nRESULT FOUND\nRESULT FOUND\nRESULT FOUND\nRESULT FOUND\nRESULT FOUND\nRESULT FOUND\nRESULT FOUND\nRESULT FOUND\nRESULT FOUND\nRESULT FOUND\nRESULT FOUND\nRESULT FOUND\nRESULT FOUND\nRESULT FOUND\nRESULT FOUND\nRESULT FOUND\nRESULT FOUND\nRESULT FOUND\nRESULT FOUND\nRESULT FOUND\nRESULT FOUND\nRESULT FOUND\nRESULT FOUND\nRESULT FOUND\nRESULT FOUND\nRESULT FOUND\nRESULT FOUND\nNO RESULT FOUND Half Life Half Death\nNO RESULT FOUND Hastang\nRESULT FOUND\nRESULT FOUND\nRESULT FOUND\nRESULT FOUND\nRESULT FOUND\nRESULT FOUND\nRESULT FOUND\nRESULT FOUND\nRESULT FOUND\nNO RESULT FOUND Juan de la Cruz Band\nRESULT FOUND\nRESULT FOUND\nRESULT FOUND\nRESULT FOUND\nRESULT FOUND\nRESULT FOUND\nRESULT FOUND\nRESULT FOUND\nRESULT FOUND\nRESULT FOUND\nRESULT FOUND\nRESULT FOUND\nRESULT FOUND\nNO RESULT FOUND Nuklus\nRESULT FOUND\nNO RESULT FOUND The Oktaves\nRESULT FOUND\nRESULT FOUND\nRESULT FOUND\nRESULT FOUND\nNO RESULT FOUND The Pin-Ups\nRESULT FOUND\nRESULT FOUND\nRESULT FOUND\nRESULT FOUND\nRESULT FOUND\nRESULT FOUND\nRESULT FOUND\nRESULT FOUND\nRESULT FOUND\nRESULT FOUND\nRESULT FOUND\nNO RESULT FOUND Shampoo Ni Lola\nRESULT FOUND\nRESULT FOUND\nRESULT FOUND\nRESULT FOUND\nRESULT FOUND\nRESULT FOUND\nRESULT FOUND\nRESULT FOUND\nRESULT FOUND\nRESULT FOUND\nRESULT FOUND\nRESULT FOUND\nRESULT FOUND\nRESULT FOUND\nRESULT FOUND\nRESULT FOUND\nRESULT FOUND\nRESULT FOUND\nRESULT FOUND\nRESULT FOUND\nRESULT FOUND\nRESULT FOUND\nRESULT FOUND\nRESULT FOUND\nRESULT FOUND\nRESULT FOUND\nRESULT FOUND\nRESULT FOUND\nRESULT FOUND\nRESULT FOUND\nRESULT FOUND\nRESULT FOUND\nRESULT FOUND\nRESULT FOUND\nRESULT FOUND\nNO RESULT FOUND Johnny Alegre Affinity\nRESULT FOUND\nRESULT FOUND\nRESULT FOUND\nRESULT FOUND\nRESULT FOUND\n"
    }
   ],
   "source": [
    "for artist in local_bands:\n",
    "    search_artist(artist, 'PH')"
   ]
  },
  {
   "cell_type": "code",
   "execution_count": 86,
   "metadata": {
    "tags": []
   },
   "outputs": [
    {
     "output_type": "stream",
     "name": "stdout",
     "text": "RESULT FOUND\nNO RESULT FOUND Gee-Ann Abrahan\nRESULT FOUND\nRESULT FOUND\nNO RESULT FOUND Marcus Adoro\nRESULT FOUND\nRESULT FOUND\nRESULT FOUND\nRESULT FOUND\nRESULT FOUND\nRESULT FOUND\nRESULT FOUND\nRESULT FOUND\nRESULT FOUND\nNO RESULT FOUND Morissette Amon\nRESULT FOUND\nRESULT FOUND\nNO RESULT FOUND Junji Arias\nRESULT FOUND\nNO RESULT FOUND Marion Aunor\nRESULT FOUND\nRESULT FOUND\nRESULT FOUND\nRESULT FOUND\nRESULT FOUND\nRESULT FOUND\nRESULT FOUND\nNO RESULT FOUND Heber Bartolome\nRESULT FOUND\nNO RESULT FOUND Jayann Bautista\nRESULT FOUND\nRESULT FOUND\nRESULT FOUND\nRESULT FOUND\nNO RESULT FOUND Zild Benitez\nRESULT FOUND\nNO RESULT FOUND Dar Bernardo\nRESULT FOUND\nRESULT FOUND\nRESULT FOUND\nNO RESULT FOUND Acel Bisa\nRESULT FOUND\nRESULT FOUND\nRESULT FOUND\nRESULT FOUND\nRESULT FOUND\nNO RESULT FOUND Maria Amapola Cabase\nRESULT FOUND\nRESULT FOUND\nRESULT FOUND\nNO RESULT FOUND Cha-Cha Cañete\nNO RESULT FOUND Nancy Castiglione\nRESULT FOUND\nRESULT FOUND\nRESULT FOUND\nNO RESULT FOUND Carl Cervantes\nRESULT FOUND\nNO RESULT FOUND Gab Chee Kee\nNO RESULT FOUND Joyce Ching\nRESULT FOUND\nRESULT FOUND\nRESULT FOUND\nRESULT FOUND\nRESULT FOUND\nRESULT FOUND\nNO RESULT FOUND Noel Comia Jr.\nRESULT FOUND\nRESULT FOUND\nRESULT FOUND\nRESULT FOUND\nRESULT FOUND\nRESULT FOUND\nRESULT FOUND\nRESULT FOUND\nRESULT FOUND\nNO RESULT FOUND CurtismithGlaiza de Castro\nRESULT FOUND\nRESULT FOUND\nRESULT FOUND\nRESULT FOUND\nRESULT FOUND\nRESULT FOUND\nRESULT FOUND\nNO RESULT FOUND Dessa (Filipina singer)\nRESULT FOUND\nRESULT FOUND\nNO RESULT FOUND Mich Dulce\nRESULT FOUND\nNO RESULT FOUND DJ Durano\nRESULT FOUND\nNO RESULT FOUND Jason DyKyle Echarri\nRESULT FOUND\nRESULT FOUND\nRESULT FOUND\nRESULT FOUND\nRESULT FOUND\nRESULT FOUND\nRESULT FOUND\nNO RESULT FOUND Heart EvangelistaFaith Anne\nRESULT FOUND\nNO RESULT FOUND Grae Fernandez\nRESULT FOUND\nNO RESULT FOUND Gerphil FloresLarry g(EE)\nRESULT FOUND\nRESULT FOUND\nNO RESULT FOUND King Girado\nRESULT FOUND\nRESULT FOUND\nNO RESULT FOUND Marrion Gopez\nNO RESULT FOUND Alodia Gosiengfiao\nRESULT FOUND\nRESULT FOUND\nRESULT FOUND\nRESULT FOUND\nRESULT FOUND\nRESULT FOUND\nRESULT FOUND\nRESULT FOUND\nRESULT FOUND\nNO RESULT FOUND RJ JimenezLala Karmela\nRESULT FOUND\nNO RESULT FOUND KylaJuan Karlos Labajo\nRESULT FOUND\nRESULT FOUND\nRESULT FOUND\nNO RESULT FOUND Maureen Larrazabal\nRESULT FOUND\nRESULT FOUND\nRESULT FOUND\nRESULT FOUND\nRESULT FOUND\nRESULT FOUND\nRESULT FOUND\nRESULT FOUND\nNO RESULT FOUND Maloy Lozanes\nRESULT FOUND\nNO RESULT FOUND Nadine LustreJed Madela\nRESULT FOUND\nRESULT FOUND\nRESULT FOUND\nRESULT FOUND\nNO RESULT FOUND Bamboo MañalaRaymond Manalo\nNO RESULT FOUND Miko Manguba\nRESULT FOUND\nNO RESULT FOUND Manskee\nRESULT FOUND\nRESULT FOUND\nRESULT FOUND\nRESULT FOUND\nRESULT FOUND\nRESULT FOUND\nRESULT FOUND\nRESULT FOUND\nRESULT FOUND\nRESULT FOUND\nRESULT FOUND\nRESULT FOUND\nRESULT FOUND\nRESULT FOUND\nNO RESULT FOUND Sophia Montecarlo\nRESULT FOUND\nRESULT FOUND\nRESULT FOUND\nNO RESULT FOUND AJ Muhlach\nNO RESULT FOUND Arci MuñozKitchie Nadal\nRESULT FOUND\nNO RESULT FOUND Nikko Natividad\nRESULT FOUND\nNO RESULT FOUND Robby Navarro\nNO RESULT FOUND Jan Nieto\nRESULT FOUND\nRESULT FOUND\nRESULT FOUND\nRESULT FOUND\nRESULT FOUND\nNO RESULT FOUND Miles Ocampo\nRESULT FOUND\nNO RESULT FOUND Ayanna Oliva\nRESULT FOUND\nRESULT FOUND\nNO RESULT FOUND Margaret Ortega\nNO RESULT FOUND Jocelyn OxladeMariel Pamintuan\nRESULT FOUND\nRESULT FOUND\nRESULT FOUND\nNO RESULT FOUND Rochelle Pangilinan\nNO RESULT FOUND Joey Paras\nNO RESULT FOUND Ala Paredes\nNO RESULT FOUND Iñigo Pascual\nRESULT FOUND\n"
    }
   ],
   "source": [
    "for artist in local_singers:\n",
    "    search_artist(artist, 'PH')"
   ]
  },
  {
   "cell_type": "code",
   "execution_count": 95,
   "metadata": {},
   "outputs": [
    {
     "output_type": "execute_result",
     "data": {
      "text/plain": "{'href': 'https://api.spotify.com/v1/artists/4wW95hzMUSb1zBs34qjLir/albums?offset=0&limit=20&include_groups=album,single,compilation,appears_on',\n 'items': [],\n 'limit': 20,\n 'next': None,\n 'offset': 0,\n 'previous': None,\n 'total': 0}"
     },
     "metadata": {},
     "execution_count": 95
    }
   ],
   "source": [
    "sp.artist_albums('4wW95hzMUSb1zBs34qjLir')"
   ]
  },
  {
   "cell_type": "code",
   "execution_count": 93,
   "metadata": {},
   "outputs": [
    {
     "output_type": "execute_result",
     "data": {
      "text/plain": "['Mak and the Dudes',\n \"Mus'ka\",\n 'Half Life Half Death',\n 'Hastang',\n 'Juan de la Cruz Band',\n 'Nuklus',\n 'The Oktaves',\n 'The Pin-Ups',\n 'Shampoo Ni Lola',\n 'Johnny Alegre Affinity',\n 'Gee-Ann Abrahan',\n 'Marcus Adoro',\n 'Morissette Amon',\n 'Junji Arias',\n 'Marion Aunor',\n 'Heber Bartolome',\n 'Jayann Bautista',\n 'Zild Benitez',\n 'Dar Bernardo',\n 'Acel Bisa',\n 'Maria Amapola Cabase',\n 'Cha-Cha Cañete',\n 'Nancy Castiglione',\n 'Carl Cervantes',\n 'Gab Chee Kee',\n 'Joyce Ching',\n 'Noel Comia Jr.',\n 'CurtismithGlaiza de Castro',\n 'Dessa (Filipina singer)',\n 'Mich Dulce',\n 'DJ Durano',\n 'Jason DyKyle Echarri',\n 'Heart EvangelistaFaith Anne',\n 'Grae Fernandez',\n 'Gerphil FloresLarry g(EE)',\n 'King Girado',\n 'Marrion Gopez',\n 'Alodia Gosiengfiao',\n 'RJ JimenezLala Karmela',\n 'KylaJuan Karlos Labajo',\n 'Maureen Larrazabal',\n 'Maloy Lozanes',\n 'Nadine LustreJed Madela',\n 'Bamboo MañalaRaymond Manalo',\n 'Miko Manguba',\n 'Manskee',\n 'Sophia Montecarlo',\n 'AJ Muhlach',\n 'Arci MuñozKitchie Nadal',\n 'Nikko Natividad',\n 'Robby Navarro',\n 'Jan Nieto',\n 'Miles Ocampo',\n 'Ayanna Oliva',\n 'Margaret Ortega',\n 'Jocelyn OxladeMariel Pamintuan',\n 'Rochelle Pangilinan',\n 'Joey Paras',\n 'Ala Paredes',\n 'Iñigo Pascual']"
     },
     "metadata": {},
     "execution_count": 93
    }
   ],
   "source": [
    "# len(no_result)\n",
    "no_result"
   ]
  },
  {
   "cell_type": "markdown",
   "metadata": {},
   "source": [
    "Since there is ony 60 artist with no resuts, I took the time if I can manually search for their spotify pages. I found out that most of the artist don't use their whole names for their spotify pages and the others just don't have a spotify page.\n",
    "\n",
    "Below are the IDs of the artist that I manually searched for.\n"
   ]
  },
  {
   "cell_type": "code",
   "execution_count": null,
   "metadata": {},
   "outputs": [],
   "source": [
    "artist_id_list.append({'ID': '4XY9rlr5TDyTuRLP1kbs9F', 'ARTIST': 'Mak and the Dudes'})\n",
    "artist_id_list.append({'ID': '1wNHRv83hRynWs1Lbn02D0', 'ARTIST': 'Juan de la Cruz Band'})\n",
    "artist_id_list.append({'ID': '4dlsoFRsNu2hApC2vQSx7b', 'ARTIST': 'Oktaves'})\n",
    "artist_id_list.append({'ID': '4wW95hzMUSb1zBs34qjLir', 'ARTIST': 'Johnny Alegre Affinity'})\n",
    "artist_id_list.append({'ID': '2Qa5HCTS7IILwgNlhQILbu', 'ARTIST': 'Marcus Adoro'})\n",
    "artist_id_list.append({'ID': '62WbvkXqQGvXQvw74GU3kQ', 'ARTIST': 'Morissette Amon'})\n",
    "artist_id_list.append({'ID': '4h5syho7OXuY0whQVQs1x3', 'ARTIST': 'Junji Arias'})\n",
    "artist_id_list.append({'ID': '0lslA51eKXwTUY0TSX9Emy', 'ARTIST': 'Marion Aunor'})\n",
    "artist_id_list.append({'ID': '74HXAldpivlRnEqr00aD0T', 'ARTIST': 'Heber Bartolome'})\n",
    "artist_id_list.append({'ID': '2hJUlesr1UOWuwTKaliasp', 'ARTIST': 'Jay Anne Bautista'})\n",
    "artist_id_list.append({'ID': '7BxbcnOfx5r4d53UQl2I1s', 'ARTIST': 'Zild Benitez'})\n",
    "artist_id_list.append({'ID': '2wijJ8u0oAhCehR0MbHIF9', 'ARTIST': 'Acel Bisa'})\n",
    "artist_id_list.append({'ID': '6ToUesXACuu1mtV4HFcoG3', 'ARTIST': 'Chacha Cañete'})\n",
    "artist_id_list.append({'ID': '0Q484FO1YILS6Iw0UWATFf', 'ARTIST': 'Joyce Ching'})\n",
    "artist_id_list.append({'ID': '6qcfs3Wo3SAWE0INK5FDbT', 'ARTIST': 'Noel Comia Jr.'})\n",
    "artist_id_list.append({'ID': '6jH7RAA1CW3vVj1a312h3Z', 'ARTIST': 'Curtismith'})\n",
    "artist_id_list.append({'ID': '5ojBrHoZb7pCOcAdEDOoNW', 'ARTIST': 'Glaiza De Castro'})\n",
    "artist_id_list.append({'ID': '74KlZuH1AECATYKwBlWAdg', 'ARTIST': 'Jason Dy'})\n",
    "artist_id_list.append({'ID': '53qa1XIZ6pZuhrGDetCGew', 'ARTIST': 'Kyle Echarri'})\n",
    "artist_id_list.append({'ID': '6UIEzOUxN61pdpQrAmVKDm', 'ARTIST': 'Heart Evangelista'})\n",
    "artist_id_list.append({'ID': '4910QV0gSyS5yhcRRDNLcL', 'ARTIST': 'Larry Gee'})\n",
    "artist_id_list.append({'ID': '1n9pyfNaKCPPOi6I3aKnkn', 'ARTIST': 'RJ Jimenez'})\n",
    "artist_id_list.append({'ID': '3D5DKmCiZ3VQRu68k87E3Q', 'ARTIST': 'Lala Karmela'})\n",
    "artist_id_list.append({'ID': '2vTbuBRo7ACOZ3JsCnaL7S', 'ARTIST': 'Kyla'})\n",
    "artist_id_list.append({'ID': '0a4r2EnsevvHCukoJ1xFwJ', 'ARTIST': 'Juan Karlos Labajo'})\n",
    "artist_id_list.append({'ID': '1PXQjLTz73UtuLmEAWaZGf', 'ARTIST': 'Maloy Lozanes'})\n",
    "artist_id_list.append({'ID': '17Do37U0HEbxu1tOrKH8dL', 'ARTIST': 'Nadine Lustre'})\n"
   ]
  },
  {
   "cell_type": "markdown",
   "metadata": {},
   "source": [
    "Now that I have all the ids of the artist I want to get all of songs from the albums of the artist that is available in PH."
   ]
  },
  {
   "cell_type": "code",
   "execution_count": null,
   "metadata": {
    "tags": []
   },
   "outputs": [],
   "source": [
    "album = sp.artist_albums(artist_id_df['ID'][0], album_type='album')\n",
    "for item in album['items']:\n",
    "    print(item)\n",
    "\n",
    "# for album_id in artist_id_df['ID']:\n",
    "#     album_obj = sp.artist_albums(artist_id_df['ID'][0], album_type='album')\n"
   ]
  }
 ]
}