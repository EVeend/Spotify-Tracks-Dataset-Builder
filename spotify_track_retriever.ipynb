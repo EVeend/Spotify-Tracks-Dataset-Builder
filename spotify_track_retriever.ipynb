{
 "metadata": {
  "language_info": {
   "codemirror_mode": {
    "name": "ipython",
    "version": 3
   },
   "file_extension": ".py",
   "mimetype": "text/x-python",
   "name": "python",
   "nbconvert_exporter": "python",
   "pygments_lexer": "ipython3",
   "version": "3.7.4-final"
  },
  "orig_nbformat": 2,
  "kernelspec": {
   "name": "python_defaultSpec_1598699164171",
   "display_name": "Python 3.7.4 64-bit"
  }
 },
 "nbformat": 4,
 "nbformat_minor": 2,
 "cells": [
  {
   "cell_type": "markdown",
   "metadata": {},
   "source": [
    "SPOTIFY EDA"
   ]
  },
  {
   "cell_type": "code",
   "execution_count": 1,
   "metadata": {},
   "outputs": [],
   "source": [
    "import pandas as pd\n",
    "import numpy as np\n",
    "\n",
    "import spotipy\n",
    "import json\n",
    "import csv\n",
    "from spotipy.oauth2 import SpotifyClientCredentials"
   ]
  },
  {
   "cell_type": "markdown",
   "metadata": {},
   "source": [
    "I will first load the data_by_artist.csv to a dataframe"
   ]
  },
  {
   "cell_type": "code",
   "execution_count": 6,
   "metadata": {},
   "outputs": [
    {
     "output_type": "execute_result",
     "data": {
      "text/plain": "       acousticness  danceability   duration_ms        energy  \\\ncount  27621.000000  27621.000000  2.762100e+04  27621.000000   \nmean       0.504651      0.544411  2.374886e+05      0.493708   \nstd        0.369788      0.176098  1.209766e+05      0.253566   \nmin        0.000000      0.000000  1.879550e+04      0.000000   \n25%        0.128784      0.429000  1.819730e+05      0.282000   \n50%        0.493000      0.555667  2.176930e+05      0.501000   \n75%        0.901000      0.673000  2.660000e+05      0.699000   \nmax        0.996000      0.986000  5.403500e+06      1.000000   \n\n       instrumentalness      liveness      loudness   speechiness  \\\ncount      27621.000000  27621.000000  27621.000000  27621.000000   \nmean           0.166661      0.203603    -11.222480      0.096180   \nstd            0.292133      0.140311      5.819377      0.116062   \nmin            0.000000      0.000000    -60.000000      0.000000   \n25%            0.000004      0.111667    -14.097000      0.039500   \n50%            0.001610      0.162850    -10.135333      0.052644   \n75%            0.188000      0.247371     -6.906000      0.098000   \nmax            1.000000      0.991000      1.342000      0.964000   \n\n              tempo       valence    popularity           key          mode  \\\ncount  27621.000000  27621.000000  27621.000000  27621.000000  27621.000000   \nmean     115.439232      0.516032     34.288478      5.409942      0.767170   \nstd       25.138470      0.243304     22.104194      3.485676      0.422643   \nmin        0.000000      0.000000      0.000000      0.000000      0.000000   \n25%       98.725500      0.334000     13.511111      2.000000      1.000000   \n50%      114.950000      0.528500     39.000000      6.000000      1.000000   \n75%      129.612647      0.705000     51.000000      8.000000      1.000000   \nmax      217.743000      0.991000     95.000000     11.000000      1.000000   \n\n              count  \ncount  27621.000000  \nmean      14.313493  \nstd       53.867027  \nmin        1.000000  \n25%        2.000000  \n50%        3.000000  \n75%        9.000000  \nmax     3172.000000  ",
      "text/html": "<div>\n<style scoped>\n    .dataframe tbody tr th:only-of-type {\n        vertical-align: middle;\n    }\n\n    .dataframe tbody tr th {\n        vertical-align: top;\n    }\n\n    .dataframe thead th {\n        text-align: right;\n    }\n</style>\n<table border=\"1\" class=\"dataframe\">\n  <thead>\n    <tr style=\"text-align: right;\">\n      <th></th>\n      <th>acousticness</th>\n      <th>danceability</th>\n      <th>duration_ms</th>\n      <th>energy</th>\n      <th>instrumentalness</th>\n      <th>liveness</th>\n      <th>loudness</th>\n      <th>speechiness</th>\n      <th>tempo</th>\n      <th>valence</th>\n      <th>popularity</th>\n      <th>key</th>\n      <th>mode</th>\n      <th>count</th>\n    </tr>\n  </thead>\n  <tbody>\n    <tr>\n      <th>count</th>\n      <td>27621.000000</td>\n      <td>27621.000000</td>\n      <td>2.762100e+04</td>\n      <td>27621.000000</td>\n      <td>27621.000000</td>\n      <td>27621.000000</td>\n      <td>27621.000000</td>\n      <td>27621.000000</td>\n      <td>27621.000000</td>\n      <td>27621.000000</td>\n      <td>27621.000000</td>\n      <td>27621.000000</td>\n      <td>27621.000000</td>\n      <td>27621.000000</td>\n    </tr>\n    <tr>\n      <th>mean</th>\n      <td>0.504651</td>\n      <td>0.544411</td>\n      <td>2.374886e+05</td>\n      <td>0.493708</td>\n      <td>0.166661</td>\n      <td>0.203603</td>\n      <td>-11.222480</td>\n      <td>0.096180</td>\n      <td>115.439232</td>\n      <td>0.516032</td>\n      <td>34.288478</td>\n      <td>5.409942</td>\n      <td>0.767170</td>\n      <td>14.313493</td>\n    </tr>\n    <tr>\n      <th>std</th>\n      <td>0.369788</td>\n      <td>0.176098</td>\n      <td>1.209766e+05</td>\n      <td>0.253566</td>\n      <td>0.292133</td>\n      <td>0.140311</td>\n      <td>5.819377</td>\n      <td>0.116062</td>\n      <td>25.138470</td>\n      <td>0.243304</td>\n      <td>22.104194</td>\n      <td>3.485676</td>\n      <td>0.422643</td>\n      <td>53.867027</td>\n    </tr>\n    <tr>\n      <th>min</th>\n      <td>0.000000</td>\n      <td>0.000000</td>\n      <td>1.879550e+04</td>\n      <td>0.000000</td>\n      <td>0.000000</td>\n      <td>0.000000</td>\n      <td>-60.000000</td>\n      <td>0.000000</td>\n      <td>0.000000</td>\n      <td>0.000000</td>\n      <td>0.000000</td>\n      <td>0.000000</td>\n      <td>0.000000</td>\n      <td>1.000000</td>\n    </tr>\n    <tr>\n      <th>25%</th>\n      <td>0.128784</td>\n      <td>0.429000</td>\n      <td>1.819730e+05</td>\n      <td>0.282000</td>\n      <td>0.000004</td>\n      <td>0.111667</td>\n      <td>-14.097000</td>\n      <td>0.039500</td>\n      <td>98.725500</td>\n      <td>0.334000</td>\n      <td>13.511111</td>\n      <td>2.000000</td>\n      <td>1.000000</td>\n      <td>2.000000</td>\n    </tr>\n    <tr>\n      <th>50%</th>\n      <td>0.493000</td>\n      <td>0.555667</td>\n      <td>2.176930e+05</td>\n      <td>0.501000</td>\n      <td>0.001610</td>\n      <td>0.162850</td>\n      <td>-10.135333</td>\n      <td>0.052644</td>\n      <td>114.950000</td>\n      <td>0.528500</td>\n      <td>39.000000</td>\n      <td>6.000000</td>\n      <td>1.000000</td>\n      <td>3.000000</td>\n    </tr>\n    <tr>\n      <th>75%</th>\n      <td>0.901000</td>\n      <td>0.673000</td>\n      <td>2.660000e+05</td>\n      <td>0.699000</td>\n      <td>0.188000</td>\n      <td>0.247371</td>\n      <td>-6.906000</td>\n      <td>0.098000</td>\n      <td>129.612647</td>\n      <td>0.705000</td>\n      <td>51.000000</td>\n      <td>8.000000</td>\n      <td>1.000000</td>\n      <td>9.000000</td>\n    </tr>\n    <tr>\n      <th>max</th>\n      <td>0.996000</td>\n      <td>0.986000</td>\n      <td>5.403500e+06</td>\n      <td>1.000000</td>\n      <td>1.000000</td>\n      <td>0.991000</td>\n      <td>1.342000</td>\n      <td>0.964000</td>\n      <td>217.743000</td>\n      <td>0.991000</td>\n      <td>95.000000</td>\n      <td>11.000000</td>\n      <td>1.000000</td>\n      <td>3172.000000</td>\n    </tr>\n  </tbody>\n</table>\n</div>"
     },
     "metadata": {},
     "execution_count": 6
    }
   ],
   "source": [
    "artist_df = pd.read_csv('songs_dataset/data_by_artist.csv')\n",
    "artist_df.describe()"
   ]
  },
  {
   "cell_type": "code",
   "execution_count": 2,
   "metadata": {},
   "outputs": [],
   "source": [
    "# INITIALIZE SPOTIFY API CREDS\n",
    "credentials = json.load(open('spotify_auth/authorization.json'))\n",
    "client_id = credentials['client_id']\n",
    "client_secret = credentials['client_secret']\n",
    "\n",
    "client_credentials_manager = SpotifyClientCredentials(client_id=client_id,client_secret=client_secret)\n",
    "\n",
    "sp = spotipy.Spotify(client_credentials_manager=client_credentials_manager)"
   ]
  },
  {
   "cell_type": "code",
   "execution_count": 8,
   "metadata": {
    "tags": []
   },
   "outputs": [],
   "source": [
    "no_result = []\n",
    "artist_id_list = []\n",
    "\n",
    "def search_artist(artist, market=None):\n",
    "    search_result = sp.search(artist, limit=20, offset=0, type='artist', market=market)\n",
    "\n",
    "    if not search_result['artists']['items']:\n",
    "        print('NO RESULT FOUND', artist) \n",
    "        no_result.append(artist)\n",
    "        return\n",
    "    for index in range(0,len(search_result['artists']['items'])):\n",
    "        result = search_result['artists']['items'][index]\n",
    "        if result['name'].lower() == artist.lower():\n",
    "            print('RESULT FOUND')\n",
    "            artist = {'ID': search_result['artists']['items'][index]['id'], 'ARTIST': artist}\n",
    "            artist_id_list.append(artist)\n",
    "            break\n",
    "        if index == len(search_result['artists']['items']) - 1:\n",
    "            no_result.append(artist)\n",
    "            print('NO RESULT FOUND', artist)"
   ]
  },
  {
   "cell_type": "code",
   "execution_count": null,
   "metadata": {
    "tags": []
   },
   "outputs": [],
   "source": [
    "for artist in artist_df['artists']:\n",
    "    search_artist(artist)"
   ]
  },
  {
   "cell_type": "markdown",
   "metadata": {},
   "source": [
    "I saved the id of artist on a csv so I don't have to run the method multiple times"
   ]
  },
  {
   "cell_type": "code",
   "execution_count": null,
   "metadata": {
    "tags": []
   },
   "outputs": [],
   "source": [
    "with open('artist_id.csv', mode='w', encoding='utf-8') as csv_file:\n",
    "    field_names = ['ID', 'ARTIST']\n",
    "    writer = csv.DictWriter(csv_file, fieldnames=field_names)\n",
    "    writer.writeheader()\n",
    "    writer.writerows(artist_id_list)\n",
    "        "
   ]
  },
  {
   "cell_type": "code",
   "execution_count": 9,
   "metadata": {},
   "outputs": [
    {
     "output_type": "execute_result",
     "data": {
      "text/plain": "27468"
     },
     "metadata": {},
     "execution_count": 9
    }
   ],
   "source": [
    "len(no_result)\n",
    "# 27468 "
   ]
  },
  {
   "cell_type": "code",
   "execution_count": 10,
   "metadata": {},
   "outputs": [
    {
     "output_type": "execute_result",
     "data": {
      "text/plain": "153"
     },
     "metadata": {},
     "execution_count": 10
    }
   ],
   "source": [
    "len(artist_id_list)"
   ]
  },
  {
   "cell_type": "markdown",
   "metadata": {},
   "source": [
    "There are 153 artist that the search method from API did not find. I tried to manually search them on gooogle and on the spotify app and some did not appear, some had multiple response some did not even have uploaded songs. Since this data is for personal use only I decided to skip this for now and will try to solve this issue in the future."
   ]
  },
  {
   "cell_type": "code",
   "execution_count": 5,
   "metadata": {
    "tags": []
   },
   "outputs": [
    {
     "output_type": "execute_result",
     "data": {
      "text/plain": "                           ID  \\\n0      5PwgSnrvg48DYvdsf2Y2ZD   \n1      2cez574BwRD00PGEbNl4SH   \n2      2vIKM7x5kKzKR9rIMBejxr   \n3      0yultMio5TntZCl8JRRibP   \n4      7CD4S5LN8BeM1MVjL7ASK4   \n...                       ...   \n27463  13ILSgBPHS5T6YCFw9Pc7R   \n27464  22eZSsFE2fxLnnC9Zga25b   \n27465  0AZ5FjdvYk3mKDw0B16nbv   \n27466  4SDgIGeqg4jyQOZVFWATAF   \n27467  0zj66XhQP4EPkat7XkBYL0   \n\n                                                  ARTIST  \n0                       \"Cats\" 1981 Original London Cast  \n1                              \"Cats\" 1983 Broadway Cast  \n2            \"Fiddler On The Roof” Motion Picture Chorus  \n3         \"Fiddler On The Roof” Motion Picture Orchestra  \n4      \"Joseph And The Amazing Technicolor Dreamcoat\"...  \n...                                                  ...  \n27463                                                鳳飛飛  \n27464                                                黃品源  \n27465                                                黃國隆  \n27466                                                黃蜀娟  \n27467                                                 黑豹  \n\n[27468 rows x 2 columns]",
      "text/html": "<div>\n<style scoped>\n    .dataframe tbody tr th:only-of-type {\n        vertical-align: middle;\n    }\n\n    .dataframe tbody tr th {\n        vertical-align: top;\n    }\n\n    .dataframe thead th {\n        text-align: right;\n    }\n</style>\n<table border=\"1\" class=\"dataframe\">\n  <thead>\n    <tr style=\"text-align: right;\">\n      <th></th>\n      <th>ID</th>\n      <th>ARTIST</th>\n    </tr>\n  </thead>\n  <tbody>\n    <tr>\n      <th>0</th>\n      <td>5PwgSnrvg48DYvdsf2Y2ZD</td>\n      <td>\"Cats\" 1981 Original London Cast</td>\n    </tr>\n    <tr>\n      <th>1</th>\n      <td>2cez574BwRD00PGEbNl4SH</td>\n      <td>\"Cats\" 1983 Broadway Cast</td>\n    </tr>\n    <tr>\n      <th>2</th>\n      <td>2vIKM7x5kKzKR9rIMBejxr</td>\n      <td>\"Fiddler On The Roof” Motion Picture Chorus</td>\n    </tr>\n    <tr>\n      <th>3</th>\n      <td>0yultMio5TntZCl8JRRibP</td>\n      <td>\"Fiddler On The Roof” Motion Picture Orchestra</td>\n    </tr>\n    <tr>\n      <th>4</th>\n      <td>7CD4S5LN8BeM1MVjL7ASK4</td>\n      <td>\"Joseph And The Amazing Technicolor Dreamcoat\"...</td>\n    </tr>\n    <tr>\n      <th>...</th>\n      <td>...</td>\n      <td>...</td>\n    </tr>\n    <tr>\n      <th>27463</th>\n      <td>13ILSgBPHS5T6YCFw9Pc7R</td>\n      <td>鳳飛飛</td>\n    </tr>\n    <tr>\n      <th>27464</th>\n      <td>22eZSsFE2fxLnnC9Zga25b</td>\n      <td>黃品源</td>\n    </tr>\n    <tr>\n      <th>27465</th>\n      <td>0AZ5FjdvYk3mKDw0B16nbv</td>\n      <td>黃國隆</td>\n    </tr>\n    <tr>\n      <th>27466</th>\n      <td>4SDgIGeqg4jyQOZVFWATAF</td>\n      <td>黃蜀娟</td>\n    </tr>\n    <tr>\n      <th>27467</th>\n      <td>0zj66XhQP4EPkat7XkBYL0</td>\n      <td>黑豹</td>\n    </tr>\n  </tbody>\n</table>\n<p>27468 rows × 2 columns</p>\n</div>"
     },
     "metadata": {},
     "execution_count": 5
    }
   ],
   "source": [
    "artist_id_df = pd.read_csv('artist_id.csv')\n",
    "artist_id_df"
   ]
  },
  {
   "cell_type": "markdown",
   "metadata": {},
   "source": [
    "After careful observation, some local artists in my country are missing from the list provided by the dataset. So after a few quick searches I retreived all the names of the local bands and artists\n",
    " in PH and now I have to search for them and retrieve their respective spotify IDs"
   ]
  },
  {
   "cell_type": "code",
   "execution_count": null,
   "metadata": {},
   "outputs": [],
   "source": [
    "local_bands = open(\"songs_dataset/local_bands.txt\", encoding='utf-8').read().split(\"\\n\")\n",
    "# local_bands"
   ]
  },
  {
   "cell_type": "code",
   "execution_count": null,
   "metadata": {},
   "outputs": [],
   "source": [
    "local_singers = open(\"songs_dataset/local_singers.txt\", encoding='utf-8').read().split(\"\\n\")\n",
    "# local_singers"
   ]
  },
  {
   "cell_type": "code",
   "execution_count": null,
   "metadata": {},
   "outputs": [],
   "source": [
    "no_result = []\n",
    "artist_id_list = []"
   ]
  },
  {
   "cell_type": "code",
   "execution_count": null,
   "metadata": {
    "tags": []
   },
   "outputs": [],
   "source": [
    "for artist in local_bands:\n",
    "    search_artist(artist, 'PH')"
   ]
  },
  {
   "cell_type": "code",
   "execution_count": null,
   "metadata": {
    "tags": []
   },
   "outputs": [],
   "source": [
    "for artist in local_singers:\n",
    "    search_artist(artist, 'PH')"
   ]
  },
  {
   "cell_type": "markdown",
   "metadata": {},
   "source": [
    "I added a second parameter that would specify what market they are avaiable. I made this so that I can ensure that they are the local artist and that I won't get a band or an artist from another country"
   ]
  },
  {
   "cell_type": "code",
   "execution_count": 11,
   "metadata": {},
   "outputs": [
    {
     "output_type": "execute_result",
     "data": {
      "text/plain": "60"
     },
     "metadata": {},
     "execution_count": 11
    }
   ],
   "source": [
    "len(no_result)"
   ]
  },
  {
   "cell_type": "markdown",
   "metadata": {},
   "source": [
    "Since there is ony 60 artist with no resuts, I took the time if I can manually search for their spotify pages. I found out that most of the artist don't use their whole names for their spotify pages and the others just don't have a spotify page.\n",
    "\n",
    "Below are the IDs of the artist that I manually searched for.\n"
   ]
  },
  {
   "cell_type": "code",
   "execution_count": null,
   "metadata": {},
   "outputs": [],
   "source": [
    "artist_id_list.append({'ID': '4XY9rlr5TDyTuRLP1kbs9F', 'ARTIST': 'Mak and the Dudes'})\n",
    "artist_id_list.append({'ID': '1wNHRv83hRynWs1Lbn02D0', 'ARTIST': 'Juan de la Cruz Band'})\n",
    "artist_id_list.append({'ID': '4dlsoFRsNu2hApC2vQSx7b', 'ARTIST': 'Oktaves'})\n",
    "artist_id_list.append({'ID': '4wW95hzMUSb1zBs34qjLir', 'ARTIST': 'Johnny Alegre Affinity'})\n",
    "artist_id_list.append({'ID': '2Qa5HCTS7IILwgNlhQILbu', 'ARTIST': 'Marcus Adoro'})\n",
    "artist_id_list.append({'ID': '62WbvkXqQGvXQvw74GU3kQ', 'ARTIST': 'Morissette Amon'})\n",
    "artist_id_list.append({'ID': '4h5syho7OXuY0whQVQs1x3', 'ARTIST': 'Junji Arias'})\n",
    "artist_id_list.append({'ID': '0lslA51eKXwTUY0TSX9Emy', 'ARTIST': 'Marion Aunor'})\n",
    "artist_id_list.append({'ID': '74HXAldpivlRnEqr00aD0T', 'ARTIST': 'Heber Bartolome'})\n",
    "artist_id_list.append({'ID': '2hJUlesr1UOWuwTKaliasp', 'ARTIST': 'Jay Anne Bautista'})\n",
    "artist_id_list.append({'ID': '7BxbcnOfx5r4d53UQl2I1s', 'ARTIST': 'Zild Benitez'})\n",
    "artist_id_list.append({'ID': '2wijJ8u0oAhCehR0MbHIF9', 'ARTIST': 'Acel Bisa'})\n",
    "artist_id_list.append({'ID': '6ToUesXACuu1mtV4HFcoG3', 'ARTIST': 'Chacha Cañete'})\n",
    "artist_id_list.append({'ID': '0Q484FO1YILS6Iw0UWATFf', 'ARTIST': 'Joyce Ching'})\n",
    "artist_id_list.append({'ID': '6qcfs3Wo3SAWE0INK5FDbT', 'ARTIST': 'Noel Comia Jr.'})\n",
    "artist_id_list.append({'ID': '6jH7RAA1CW3vVj1a312h3Z', 'ARTIST': 'Curtismith'})\n",
    "artist_id_list.append({'ID': '5ojBrHoZb7pCOcAdEDOoNW', 'ARTIST': 'Glaiza De Castro'})\n",
    "artist_id_list.append({'ID': '74KlZuH1AECATYKwBlWAdg', 'ARTIST': 'Jason Dy'})\n",
    "artist_id_list.append({'ID': '53qa1XIZ6pZuhrGDetCGew', 'ARTIST': 'Kyle Echarri'})\n",
    "artist_id_list.append({'ID': '6UIEzOUxN61pdpQrAmVKDm', 'ARTIST': 'Heart Evangelista'})\n",
    "artist_id_list.append({'ID': '4910QV0gSyS5yhcRRDNLcL', 'ARTIST': 'Larry Gee'})\n",
    "artist_id_list.append({'ID': '1n9pyfNaKCPPOi6I3aKnkn', 'ARTIST': 'RJ Jimenez'})\n",
    "artist_id_list.append({'ID': '3D5DKmCiZ3VQRu68k87E3Q', 'ARTIST': 'Lala Karmela'})\n",
    "artist_id_list.append({'ID': '2vTbuBRo7ACOZ3JsCnaL7S', 'ARTIST': 'Kyla'})\n",
    "artist_id_list.append({'ID': '0a4r2EnsevvHCukoJ1xFwJ', 'ARTIST': 'Juan Karlos Labajo'})\n",
    "artist_id_list.append({'ID': '1PXQjLTz73UtuLmEAWaZGf', 'ARTIST': 'Maloy Lozanes'})\n",
    "artist_id_list.append({'ID': '17Do37U0HEbxu1tOrKH8dL', 'ARTIST': 'Nadine Lustre'})\n",
    "artist_id_list.append({'ID': '7DRgc0ko15aNa7DMeZ3J8G', 'ARTIST': 'Jed Madela'})\n",
    "artist_id_list.append({'ID': '0c7d9V8rjfT6tzojfBfRf5', 'ARTIST': 'Bamboo'})\n",
    "artist_id_list.append({'ID': '5relTuuSSW001zewisaAk2', 'ARTIST': 'Raymond Manalo'})\n",
    "artist_id_list.append({'ID': '1onz2fxn4zwyarm9FPVuyp', 'ARTIST': 'Miko Manguba'})\n",
    "artist_id_list.append({'ID': '7fW1bbURcl5aOUvrCj4va2', 'ARTIST': 'Sophia Montecarlo'})\n",
    "artist_id_list.append({'ID': '4OjU5UP0GFWeniBC82sGBY', 'ARTIST': 'Kitchie Nadal'})\n",
    "artist_id_list.append({'ID': '1t6esaYFDM9fOnvjV31v6r', 'ARTIST': 'Robbie Navarro'})\n",
    "artist_id_list.append({'ID': '0XOSmu9Qn1agQULUVe0dAK', 'ARTIST': 'Iñigo Pascual'})"
   ]
  },
  {
   "cell_type": "code",
   "execution_count": null,
   "metadata": {},
   "outputs": [],
   "source": [
    "with open('local_artist_id.csv', mode='w', encoding='utf-8') as csv_file:\n",
    "    field_names = ['ID', 'ARTIST']\n",
    "    writer = csv.DictWriter(csv_file, fieldnames=field_names)\n",
    "    writer.writeheader()\n",
    "    writer.writerows(artist_id_list)"
   ]
  },
  {
   "cell_type": "code",
   "execution_count": 4,
   "metadata": {},
   "outputs": [
    {
     "output_type": "execute_result",
     "data": {
      "text/plain": "                         ID               ARTIST\n0    5pbdyhkEpMobD6Fs6h729Q                 Asin\n1    6hwX2mCENcTYJ3ls8DPfYb            Humanfolk\n2    4RA4PC3WHM9OHZLExirTcU   APO Hiking Society\n3    0NTCLJMe5JtkMt3YQuja45           Boyfriends\n4    65QcnpMJFv1yogXwoOe97v           Cinderella\n..                      ...                  ...\n325  7fW1bbURcl5aOUvrCj4va2    Sophia Montecarlo\n326  4OjU5UP0GFWeniBC82sGBY        Kitchie Nadal\n327  1t6esaYFDM9fOnvjV31v6r       Robbie Navarro\n328  0XOSmu9Qn1agQULUVe0dAK        Iñigo Pascual\n329  7tKpXx21KVUOR6vvDs6xtg  I Belong to the Zoo\n\n[330 rows x 2 columns]",
      "text/html": "<div>\n<style scoped>\n    .dataframe tbody tr th:only-of-type {\n        vertical-align: middle;\n    }\n\n    .dataframe tbody tr th {\n        vertical-align: top;\n    }\n\n    .dataframe thead th {\n        text-align: right;\n    }\n</style>\n<table border=\"1\" class=\"dataframe\">\n  <thead>\n    <tr style=\"text-align: right;\">\n      <th></th>\n      <th>ID</th>\n      <th>ARTIST</th>\n    </tr>\n  </thead>\n  <tbody>\n    <tr>\n      <th>0</th>\n      <td>5pbdyhkEpMobD6Fs6h729Q</td>\n      <td>Asin</td>\n    </tr>\n    <tr>\n      <th>1</th>\n      <td>6hwX2mCENcTYJ3ls8DPfYb</td>\n      <td>Humanfolk</td>\n    </tr>\n    <tr>\n      <th>2</th>\n      <td>4RA4PC3WHM9OHZLExirTcU</td>\n      <td>APO Hiking Society</td>\n    </tr>\n    <tr>\n      <th>3</th>\n      <td>0NTCLJMe5JtkMt3YQuja45</td>\n      <td>Boyfriends</td>\n    </tr>\n    <tr>\n      <th>4</th>\n      <td>65QcnpMJFv1yogXwoOe97v</td>\n      <td>Cinderella</td>\n    </tr>\n    <tr>\n      <th>...</th>\n      <td>...</td>\n      <td>...</td>\n    </tr>\n    <tr>\n      <th>325</th>\n      <td>7fW1bbURcl5aOUvrCj4va2</td>\n      <td>Sophia Montecarlo</td>\n    </tr>\n    <tr>\n      <th>326</th>\n      <td>4OjU5UP0GFWeniBC82sGBY</td>\n      <td>Kitchie Nadal</td>\n    </tr>\n    <tr>\n      <th>327</th>\n      <td>1t6esaYFDM9fOnvjV31v6r</td>\n      <td>Robbie Navarro</td>\n    </tr>\n    <tr>\n      <th>328</th>\n      <td>0XOSmu9Qn1agQULUVe0dAK</td>\n      <td>Iñigo Pascual</td>\n    </tr>\n    <tr>\n      <th>329</th>\n      <td>7tKpXx21KVUOR6vvDs6xtg</td>\n      <td>I Belong to the Zoo</td>\n    </tr>\n  </tbody>\n</table>\n<p>330 rows × 2 columns</p>\n</div>"
     },
     "metadata": {},
     "execution_count": 4
    }
   ],
   "source": [
    "local_artist_id_df = pd.read_csv('local_artist_id.csv')\n",
    "local_artist_id_df "
   ]
  },
  {
   "cell_type": "code",
   "execution_count": 6,
   "metadata": {},
   "outputs": [],
   "source": [
    "all_artist_id = pd.concat([artist_id_df, local_artist_id_df])\n",
    "all_artist_id.to_csv('all_artist.csv', index=False)"
   ]
  },
  {
   "cell_type": "code",
   "execution_count": 8,
   "metadata": {},
   "outputs": [
    {
     "output_type": "execute_result",
     "data": {
      "text/plain": "                            ID           ARTIST\ncount                    27798            27798\nunique                   27732            27756\ntop     0a4r2EnsevvHCukoJ1xFwJ  Smokey Mountain\nfreq                         2                2",
      "text/html": "<div>\n<style scoped>\n    .dataframe tbody tr th:only-of-type {\n        vertical-align: middle;\n    }\n\n    .dataframe tbody tr th {\n        vertical-align: top;\n    }\n\n    .dataframe thead th {\n        text-align: right;\n    }\n</style>\n<table border=\"1\" class=\"dataframe\">\n  <thead>\n    <tr style=\"text-align: right;\">\n      <th></th>\n      <th>ID</th>\n      <th>ARTIST</th>\n    </tr>\n  </thead>\n  <tbody>\n    <tr>\n      <th>count</th>\n      <td>27798</td>\n      <td>27798</td>\n    </tr>\n    <tr>\n      <th>unique</th>\n      <td>27732</td>\n      <td>27756</td>\n    </tr>\n    <tr>\n      <th>top</th>\n      <td>0a4r2EnsevvHCukoJ1xFwJ</td>\n      <td>Smokey Mountain</td>\n    </tr>\n    <tr>\n      <th>freq</th>\n      <td>2</td>\n      <td>2</td>\n    </tr>\n  </tbody>\n</table>\n</div>"
     },
     "metadata": {},
     "execution_count": 8
    }
   ],
   "source": [
    "all_artist_id = pd.read_csv('all_artist.csv')\n",
    "all_artist_id.describe()"
   ]
  },
  {
   "cell_type": "markdown",
   "metadata": {},
   "source": [
    "After merging the two dataframes, there are duplicated values, which means that there are some philippine artist already in the dataset. Since they are duplicated, I need to remove them "
   ]
  },
  {
   "cell_type": "code",
   "execution_count": 9,
   "metadata": {},
   "outputs": [
    {
     "output_type": "execute_result",
     "data": {
      "text/plain": "                            ID   ARTIST\ncount                    27732    27732\nunique                   27732    27729\ntop     3MWm2G53GJPXxzcEEqzgTW  Arcadia\nfreq                         1        2",
      "text/html": "<div>\n<style scoped>\n    .dataframe tbody tr th:only-of-type {\n        vertical-align: middle;\n    }\n\n    .dataframe tbody tr th {\n        vertical-align: top;\n    }\n\n    .dataframe thead th {\n        text-align: right;\n    }\n</style>\n<table border=\"1\" class=\"dataframe\">\n  <thead>\n    <tr style=\"text-align: right;\">\n      <th></th>\n      <th>ID</th>\n      <th>ARTIST</th>\n    </tr>\n  </thead>\n  <tbody>\n    <tr>\n      <th>count</th>\n      <td>27732</td>\n      <td>27732</td>\n    </tr>\n    <tr>\n      <th>unique</th>\n      <td>27732</td>\n      <td>27729</td>\n    </tr>\n    <tr>\n      <th>top</th>\n      <td>3MWm2G53GJPXxzcEEqzgTW</td>\n      <td>Arcadia</td>\n    </tr>\n    <tr>\n      <th>freq</th>\n      <td>1</td>\n      <td>2</td>\n    </tr>\n  </tbody>\n</table>\n</div>"
     },
     "metadata": {},
     "execution_count": 9
    }
   ],
   "source": [
    "all_artist_id = all_artist_id.drop_duplicates(subset=['ID'], keep='first')\n",
    "all_artist_id.describe()"
   ]
  },
  {
   "cell_type": "markdown",
   "metadata": {},
   "source": [
    "Now that I have all the ids of the artist, I want to get all of songs from the albums of the artist that is available in PH."
   ]
  },
  {
   "cell_type": "code",
   "execution_count": 19,
   "metadata": {},
   "outputs": [],
   "source": [
    "all_artist_id['ALBUMS'] = np.nan\n",
    "all_artist_id['ALBUMS'] = all_artist_id['ALBUMS'].astype('object')"
   ]
  },
  {
   "cell_type": "code",
   "execution_count": 35,
   "metadata": {
    "tags": [
     "outputPrepend"
    ]
   },
   "outputs": [
    {
     "output_type": "stream",
     "name": "stdout",
     "text": "7\n21668\n21669\n21670\n21671\n21672\n21673\n21674\n21675\n21676\n21677\n21678\n21679\n21680\n21681\n21682\n21683\n21684\n21685\n21686\n21687\n21688\n21689\n21690\n21691\n21692\n21693\n21694\n21695\n21696\n21697\n21698\n21699\n21700\n21701\n21702\n21703\n21704\n21705\n21706\n21707\n21708\n21709\n21710\n21711\n21712\n21713\n21714\n21715\n21716\n21717\n21718\n21719\n21720\n21721\n21722\n21723\n21724\n21725\n21726\n21727\n21728\n21729\n21730\n21731\n21732\n21733\n21734\n21735\n21736\n21737\n21738\n21739\n21740\n21741\n21742\n21743\n21744\n21745\n21746\n21747\n21748\n21749\n21750\n21751\n21752\n21753\n21754\n21755\n21756\n21757\n21758\n21759\n21760\n21761\n21762\n21763\n21764\n21765\n21766\n21767\n21768\n21769\n21770\n21771\n21772\n21773\n21774\n21775\n21776\n21777\n21778\n21779\n21780\n21781\n21782\n21783\n21784\n21785\n21786\n21787\n21788\n21789\n21790\n21791\n21792\n21793\n21794\n21795\n21796\n21797\n21798\n21799\n21800\n21801\n21802\n21803\n21804\n21805\n21806\n21807\n21808\n21809\n21810\n21811\n21812\n21813\n21814\n21815\n21816\n21817\n21818\n21819\n21820\n21821\n21822\n21823\n21824\n21825\n21826\n21827\n21828\n21829\n21830\n21831\n21832\n21833\n21834\n21835\n21836\n21837\n21838\n21839\n21840\n21841\n21842\n21843\n21844\n21845\n21846\n21847\n21848\n21849\n21850\n21851\n21852\n21853\n21854\n21855\n21856\n21857\n21858\n21859\n21860\n21861\n21862\n21863\n21864\n21865\n21866\n21867\n21868\n21869\n21870\n21871\n21872\n21873\n21874\n21875\n21876\n21877\n21878\n21879\n21880\n21881\n21882\n21883\n21884\n21885\n21886\n21887\n21888\n21889\n21890\n21891\n21892\n21893\n21894\n21895\n21896\n21897\n21898\n21899\n21900\n21901\n21902\n21903\n21904\n21905\n21906\n21907\n21908\n21909\n21910\n21911\n21912\n21913\n21914\n21915\n21916\n21917\n21918\n21919\n21920\n21921\n21922\n21923\n21924\n21925\n21926\n21927\n21928\n21929\n21930\n21931\n21932\n21933\n21934\n21935\n21936\n21937\n21938\n21939\n21940\n21941\n21942\n21943\n21944\n21945\n21946\n21947\n21948\n21949\n21950\n21951\n21952\n21953\n21954\n21955\n21956\n21957\n21958\n21959\n21960\n21961\n21962\n21963\n21964\n21965\n21966\n21967\n21968\n21969\n21970\n21971\n21972\n21973\n21974\n21975\n21976\n21977\n21978\n21979\n21980\n21981\n21982\n21983\n21984\n21985\n21986\n21987\n21988\n21989\n21990\n21991\n21992\n21993\n21994\n21995\n21996\n21997\n21998\n21999\n22000\n22001\n22002\n22003\n22004\n22005\n22006\n22007\n22008\n22009\n22010\n22011\n22012\n22013\n22014\n22015\n22016\n22017\n22018\n22019\n22020\n22021\n22022\n22023\n22024\n22025\n22026\n22027\n22028\n22029\n22030\n22031\n22032\n22033\n22034\n22035\n22036\n22037\n22038\n22039\n22040\n22041\n22042\n22043\n22044\n22045\n22046\n22047\n22048\n22049\n22050\n22051\n22052\n22053\n22054\n22055\n22056\n22057\n22058\n22059\n22060\n22061\n22062\n22063\n22064\n22065\n22066\n22067\n22068\n22069\n22070\n22071\n22072\n22073\n22074\n22075\n22076\n22077\n22078\n22079\n22080\n22081\n22082\n22083\n22084\n22085\n22086\n22087\n22088\n22089\n22090\n22091\n22092\n22093\n22094\n22095\n22096\n22097\n22098\n22099\n22100\n22101\n22102\n22103\n22104\n22105\n22106\n22107\n22108\n22109\n22110\n22111\n22112\n22113\n22114\n22115\n22116\n22117\n22118\n22119\n22120\n22121\n22122\n22123\n22124\n22125\n22126\n22127\n22128\n22129\n22130\n22131\n22132\n22133\n22134\n22135\n22136\n22137\n22138\n22139\n22140\n22141\n22142\n22143\n22144\n22145\n22146\n22147\n22148\n22149\n22150\n22151\n22152\n22153\n22154\n22155\n22156\n22157\n22158\n22159\n22160\n22161\n22162\n22163\n22164\n22165\n22166\n22167\n22168\n22169\n22170\n22171\n22172\n22173\n22174\n22175\n22176\n22177\n22178\n22179\n22180\n22181\n22182\n22183\n22184\n22185\n22186\n22187\n22188\n22189\n22190\n22191\n22192\n22193\n22194\n22195\n22196\n22197\n22198\n22199\n22200\n22201\n22202\n22203\n22204\n22205\n22206\n22207\n22208\n22209\n22210\n22211\n22212\n22213\n22214\n22215\n22216\n22217\n22218\n22219\n22220\n22221\n22222\n22223\n22224\n22225\n22226\n22227\n22228\n22229\n22230\n22231\n22232\n22233\n22234\n22235\n22236\n22237\n22238\n22239\n22240\n22241\n22242\n22243\n22244\n22245\n22246\n22247\n22248\n22249\n22250\n22251\n22252\n22253\n22254\n22255\n22256\n22257\n22258\n22259\n22260\n22261\n22262\n22263\n22264\n22265\n22266\n22267\n22268\n22269\n22270\n22271\n22272\n22273\n22274\n22275\n22276\n22277\n22278\n22279\n22280\n22281\n22282\n22283\n22284\n22285\n22286\n22287\n22288\n22289\n22290\n22291\n22292\n22293\n22294\n22295\n22296\n22297\n22298\n22299\n22300\n22301\n22302\n22303\n22304\n22305\n22306\n22307\n22308\n22309\n22310\n22311\n22312\n22313\n22314\n22315\n22316\n22317\n22318\n22319\n22320\n22321\n22322\n22323\n22324\n22325\n22326\n22327\n22328\n22329\n22330\n22331\n22332\n22333\n22334\n22335\n22336\n22337\n22338\n22339\n22340\n22341\n22342\n22343\n22344\n22345\n22346\n22347\n22348\n22349\n22350\n22351\n22352\n22353\n22354\n22355\n22356\n22357\n22358\n22359\n22360\n22361\n22362\n22363\n22364\n22365\n22366\n22367\n22368\n22369\n22370\n22371\n22372\n22373\n22374\n22375\n22376\n22377\n22378\n22379\n22380\n22381\n22382\n22383\n22384\n22385\n22386\n22387\n22388\n22389\n22390\n22391\n22392\n22393\n22394\n22395\n22396\n22397\n22398\n22399\n22400\n22401\n22402\n22403\n22404\n22405\n22406\n22407\n22408\n22409\n22410\n22411\n22412\n22413\n22414\n22415\n22416\n22417\n22418\n22419\n22420\n22421\n22422\n22423\n22424\n22425\n22426\n22427\n22428\n22429\n22430\n22431\n22432\n22433\n22434\n22435\n22436\n22437\n22438\n22439\n22440\n22441\n22442\n22443\n22444\n22445\n22446\n22447\n22448\n22449\n22450\n22451\n22452\n22453\n22454\n22455\n22456\n22457\n22458\n22459\n22460\n22461\n22462\n22463\n22464\n22465\n22466\n22467\n22468\n22469\n22470\n22471\n22472\n22473\n22474\n22475\n22476\n22477\n22478\n22479\n22480\n22481\n22482\n22483\n22484\n22485\n22486\n22487\n22488\n22489\n22490\n22491\n22492\n22493\n22494\n22495\n22496\n22497\n22498\n22499\n22500\n22501\n22502\n22503\n22504\n22505\n22506\n22507\n22508\n22509\n22510\n22511\n22512\n22513\n22514\n22515\n22516\n22517\n22518\n22519\n22520\n22521\n22522\n22523\n22524\n22525\n22526\n22527\n22528\n22529\n22530\n22531\n22532\n22533\n22534\n22535\n22536\n22537\n22538\n22539\n22540\n22541\n22542\n22543\n22544\n22545\n22546\n22547\n22548\n22549\n22550\n22551\n22552\n22553\n22554\n22555\n22556\n22557\n22558\n22559\n22560\n22561\n22562\n22563\n22564\n22565\n22566\n22567\n22568\n22569\n22570\n22571\n22572\n22573\n22574\n22575\n22576\n22577\n22578\n22579\n22580\n22581\n22582\n22583\n22584\n22585\n22586\n22587\n22588\n22589\n22590\n22591\n22592\n22593\n22594\n22595\n22596\n22597\n22598\n22599\n22600\n22601\n22602\n22603\n22604\n22605\n22606\n22607\n22608\n22609\n22610\n22611\n22612\n22613\n22614\n22615\n22616\n22617\n22618\n22619\n22620\n22621\n22622\n22623\n22624\n22625\n22626\n22627\n22628\n22629\n22630\n22631\n22632\n22633\n22634\n22635\n22636\n22637\n22638\n22639\n22640\n22641\n22642\n22643\n22644\n22645\n22646\n22647\n22648\n22649\n22650\n22651\n22652\n22653\n22654\n22655\n22656\n22657\n22658\n22659\n22660\n22661\n22662\n22663\n22664\n22665\n22666\n22667\n22668\n22669\n22670\n22671\n22672\n22673\n22674\n22675\n22676\n22677\n22678\n22679\n22680\n22681\n22682\n22683\n22684\n22685\n22686\n22687\n22688\n22689\n22690\n22691\n22692\n22693\n22694\n22695\n22696\n22697\n22698\n22699\n22700\n22701\n22702\n22703\n22704\n22705\n22706\n22707\n22708\n22709\n22710\n22711\n22712\n22713\n22714\n22715\n22716\n22717\n22718\n22719\n22720\n22721\n22722\n22723\n22724\n22725\n22726\n22727\n22728\n22729\n22730\n22731\n22732\n22733\n22734\n22735\n22736\n22737\n22738\n22739\n22740\n22741\n22742\n22743\n22744\n22745\n22746\n22747\n22748\n22749\n22750\n22751\n22752\n22753\n22754\n22755\n22756\n22757\n22758\n22759\n22760\n22761\n22762\n22763\n22764\n22765\n22766\n22767\n22768\n22769\n22770\n22771\n22772\n22773\n22774\n22775\n22776\n22777\n22778\n22779\n22780\n22781\n22782\n22783\n22784\n22785\n22786\n22787\n22788\n22789\n22790\n22791\n22792\n22793\n22794\n22795\n22796\n22797\n22798\n22799\n22800\n22801\n22802\n22803\n22804\n22805\n22806\n22807\n22808\n22809\n22810\n22811\n22812\n22813\n22814\n22815\n22816\n22817\n22818\n22819\n22820\n22821\n22822\n22823\n22824\n22825\n22826\n22827\n22828\n22829\n22830\n22831\n22832\n22833\n22834\n22835\n22836\n22837\n22838\n22839\n22840\n22841\n22842\n22843\n22844\n22845\n22846\n22847\n22848\n22849\n22850\n22851\n22852\n22853\n22854\n22855\n22856\n22857\n22858\n22859\n22860\n22861\n22862\n22863\n22864\n22865\n22866\n22867\n22868\n22869\n22870\n22871\n22872\n22873\n22874\n22875\n22876\n22877\n22878\n22879\n22880\n22881\n22882\n22883\n22884\n22885\n22886\n22887\n22888\n22889\n22890\n22891\n22892\n22893\n22894\n22895\n22896\n22897\n22898\n22899\n22900\n22901\n22902\n22903\n22904\n22905\n22906\n22907\n22908\n22909\n22910\n22911\n22912\n22913\n22914\n22915\n22916\n22917\n22918\n22919\n22920\n22921\n22922\n22923\n22924\n22925\n22926\n22927\n22928\n22929\n22930\n22931\n22932\n22933\n22934\n22935\n22936\n22937\n22938\n22939\n22940\n22941\n22942\n22943\n22944\n22945\n22946\n22947\n22948\n22949\n22950\n22951\n22952\n22953\n22954\n22955\n22956\n22957\n22958\n22959\n22960\n22961\n22962\n22963\n22964\n22965\n22966\n22967\n22968\n22969\n22970\n22971\n22972\n22973\n22974\n22975\n22976\n22977\n22978\n22979\n22980\n22981\n22982\n22983\n22984\n22985\n22986\n22987\n22988\n22989\n22990\n22991\n22992\n22993\n22994\n22995\n22996\n22997\n22998\n22999\n23000\n23001\n23002\n23003\n23004\n23005\n23006\n23007\n23008\n23009\n23010\n23011\n23012\n23013\n23014\n23015\n23016\n23017\n23018\n23019\n23020\n23021\n23022\n23023\n23024\n23025\n23026\n23027\n23028\n23029\n23030\n23031\n23032\n23033\n23034\n23035\n23036\n23037\n23038\n23039\n23040\n23041\n23042\n23043\n23044\n23045\n23046\n23047\n23048\n23049\n23050\n23051\n23052\n23053\n23054\n23055\n23056\n23057\n23058\n23059\n23060\n23061\n23062\n23063\n23064\n23065\n23066\n23067\n23068\n23069\n23070\n23071\n23072\n23073\n23074\n23075\n23076\n23077\n23078\n23079\n23080\n23081\n23082\n23083\n23084\n23085\n23086\n23087\n23088\n23089\n23090\n23091\n23092\n23093\n23094\n23095\n23096\n23097\n23098\n23099\n23100\n23101\n23102\n23103\n23104\n23105\n23106\n23107\n23108\n23109\n23110\n23111\n23112\n23113\n23114\n23115\n23116\n23117\n23118\n23119\n23120\n23121\n23122\n23123\n23124\n23125\n23126\n23127\n23128\n23129\n23130\n23131\n23132\n23133\n23134\n23135\n23136\n23137\n23138\n23139\n23140\n23141\n23142\n23143\n23144\n23145\n23146\n23147\n23148\n23149\n23150\n23151\n23152\n23153\n23154\n23155\n23156\n23157\n23158\n23159\n23160\n23161\n23162\n23163\n23164\n23165\n23166\n23167\n23168\n23169\n23170\n23171\n23172\n23173\n23174\n23175\n23176\n23177\n23178\n23179\n23180\n23181\n23182\n23183\n23184\n23185\n23186\n23187\n23188\n23189\n23190\n23191\n23192\n23193\n23194\n23195\n23196\n23197\n23198\n23199\n23200\n23201\n23202\n23203\n23204\n23205\n23206\n23207\n23208\n23209\n23210\n23211\n23212\n23213\n23214\n23215\n23216\n23217\n23218\n23219\n23220\n23221\n23222\n23223\n23224\n23225\n23226\n23227\n23228\n23229\n23230\n23231\n23232\n23233\n23234\n23235\n23236\n23237\n23238\n23239\n23240\n23241\n23242\n23243\n23244\n23245\n23246\n23247\n23248\n23249\n23250\n23251\n23252\n23253\n23254\n23255\n23256\n23257\n23258\n23259\n23260\n23261\n23262\n23263\n23264\n23265\n23266\n23267\n23268\n23269\n23270\n23271\n23272\n23273\n23274\n23275\n23276\n23277\n23278\n23279\n23280\n23281\n23282\n23283\n23284\n23285\n23286\n23287\n23288\n23289\n23290\n23291\n23292\n23293\n23294\n23295\n23296\n23297\n23298\n23299\n23300\n23301\n23302\n23303\n23304\n23305\n23306\n23307\n23308\n23309\n23310\n23311\n23312\n23313\n23314\n23315\n23316\n23317\n23318\n23319\n23320\n23321\n23322\n23323\n23324\n23325\n23326\n23327\n23328\n23329\n23330\n23331\n23332\n23333\n23334\n23335\n23336\n23337\n23338\n23339\n23340\n23341\n23342\n23343\n23344\n23345\n23346\n23347\n23348\n23349\n23350\n23351\n23352\n23353\n23354\n23355\n23356\n23357\n23358\n23359\n23360\n23361\n23362\n23363\n23364\n23365\n23366\n23367\n23368\n23369\n23370\n23371\n23372\n23373\n23374\n23375\n23376\n23377\n23378\n23379\n23380\n23381\n23382\n23383\n23384\n23385\n23386\n23387\n23388\n23389\n23390\n23391\n23392\n23393\n23394\n23395\n23396\n23397\n23398\n23399\n23400\n23401\n23402\n23403\n23404\n23405\n23406\n23407\n23408\n23409\n23410\n23411\n23412\n23413\n23414\n23415\n23416\n23417\n23418\n23419\n23420\n23421\n23422\n23423\n23424\n23425\n23426\n23427\n23428\n23429\n23430\n23431\n23432\n23433\n23434\n23435\n23436\n23437\n23438\n23439\n23440\n23441\n23442\n23443\n23444\n23445\n23446\n23447\n23448\n23449\n23450\n23451\n23452\n23453\n23454\n23455\n23456\n23457\n23458\n23459\n23460\n23461\n23462\n23463\n23464\n23465\n23466\n23467\n23468\n23469\n23470\n23471\n23472\n23473\n23474\n23475\n23476\n23477\n23478\n23479\n23480\n23481\n23482\n23483\n23484\n23485\n23486\n23487\n23488\n23489\n23490\n23491\n23492\n23493\n23494\n23495\n23496\n23497\n23498\n23499\n23500\n23501\n23502\n23503\n23504\n23505\n23506\n23507\n23508\n23509\n23510\n23511\n23512\n23513\n23514\n23515\n23516\n23517\n23518\n23519\n23520\n23521\n23522\n23523\n23524\n23525\n23526\n23527\n23528\n23529\n23530\n23531\n23532\n23533\n23534\n23535\n23536\n23537\n23538\n23539\n23540\n23541\n23542\n23543\n23544\n23545\n23546\n23547\n23548\n23549\n23550\n23551\n23552\n23553\n23554\n23555\n23556\n23557\n23558\n23559\n23560\n23561\n23562\n23563\n23564\n23565\n23566\n23567\n23568\n23569\n23570\n23571\n23572\n23573\n23574\n23575\n23576\n23577\n23578\n23579\n23580\n23581\n23582\n23583\n23584\n23585\n23586\n23587\n23588\n23589\n23590\n23591\n23592\n23593\n23594\n23595\n23596\n23597\n23598\n23599\n23600\n23601\n23602\n23603\n23604\n23605\n23606\n23607\n23608\n23609\n23610\n23611\n23612\n23613\n23614\n23615\n23616\n23617\n23618\n23619\n23620\n23621\n23622\n23623\n23624\n23625\n23626\n23627\n23628\n23629\n23630\n23631\n23632\n23633\n23634\n23635\n23636\n23637\n23638\n23639\n23640\n23641\n23642\n23643\n23644\n23645\n23646\n23647\n23648\n23649\n23650\n23651\n23652\n23653\n23654\n23655\n23656\n23657\n23658\n23659\n23660\n23661\n23662\n23663\n23664\n23665\n23666\n23667\n23668\n23669\n23670\n23671\n23672\n23673\n23674\n23675\n23676\n23677\n23678\n23679\n23680\n23681\n23682\n23683\n23684\n23685\n23686\n23687\n23688\n23689\n23690\n23691\n23692\n23693\n23694\n23695\n23696\n23697\n23698\n23699\n23700\n23701\n23702\n23703\n23704\n23705\n23706\n23707\n23708\n23709\n23710\n23711\n23712\n23713\n23714\n23715\n23716\n23717\n23718\n23719\n23720\n23721\n23722\n23723\n23724\n23725\n23726\n23727\n23728\n23729\n23730\n23731\n23732\n23733\n23734\n23735\n23736\n23737\n23738\n23739\n23740\n23741\n23742\n23743\n23744\n23745\n23746\n23747\n23748\n23749\n23750\n23751\n23752\n23753\n23754\n23755\n23756\n23757\n23758\n23759\n23760\n23761\n23762\n23763\n23764\n23765\n23766\n23767\n23768\n23769\n23770\n23771\n23772\n23773\n23774\n23775\n23776\n23777\n23778\n23779\n23780\n23781\n23782\n23783\n23784\n23785\n23786\n23787\n23788\n23789\n23790\n23791\n23792\n23793\n23794\n23795\n23796\n23797\n23798\n23799\n23800\n23801\n23802\n23803\n23804\n23805\n23806\n23807\n23808\n23809\n23810\n23811\n23812\n23813\n23814\n23815\n23816\n23817\n23818\n23819\n23820\n23821\n23822\n23823\n23824\n23825\n23826\n23827\n23828\n23829\n23830\n23831\n23832\n23833\n23834\n23835\n23836\n23837\n23838\n23839\n23840\n23841\n23842\n23843\n23844\n23845\n23846\n23847\n23848\n23849\n23850\n23851\n23852\n23853\n23854\n23855\n23856\n23857\n23858\n23859\n23860\n23861\n23862\n23863\n23864\n23865\n23866\n23867\n23868\n23869\n23870\n23871\n23872\n23873\n23874\n23875\n23876\n23877\n23878\n23879\n23880\n23881\n23882\n23883\n23884\n23885\n23886\n23887\n23888\n23889\n23890\n23891\n23892\n23893\n23894\n23895\n23896\n23897\n23898\n23899\n23900\n23901\n23902\n23903\n23904\n23905\n23906\n23907\n23908\n23909\n23910\n23911\n23912\n23913\n23914\n23915\n23916\n23917\n23918\n23919\n23920\n23921\n23922\n23923\n23924\n23925\n23926\n23927\n23928\n23929\n23930\n23931\n23932\n23933\n23934\n23935\n23936\n23937\n23938\n23939\n23940\n23941\n23942\n23943\n23944\n23945\n23946\n23947\n23948\n23949\n23950\n23951\n23952\n23953\n23954\n23955\n23956\n23957\n23958\n23959\n23960\n23961\n23962\n23963\n23964\n23965\n23966\n23967\n23968\n23969\n23970\n23971\n23972\n23973\n23974\n23975\n23976\n23977\n23978\n23979\n23980\n23981\n23982\n23983\n23984\n23985\n23986\n23987\n23988\n23989\n23990\n23991\n23992\n23993\n23994\n23995\n23996\n23997\n23998\n23999\n24000\n24001\n24002\n24003\n24004\n24005\n24006\n24007\n24008\n24009\n24010\n24011\n24012\n24013\n24014\n24015\n24016\n24017\n24018\n24019\n24020\n24021\n24022\n24023\n24024\n24025\n24026\n24027\n24028\n24029\n24030\n24031\n24032\n24033\n24034\n24035\n24036\n24037\n24038\n24039\n24040\n24041\n24042\n24043\n24044\n24045\n24046\n24047\n24048\n24049\n24050\n24051\n24052\n24053\n24054\n24055\n24056\n24057\n24058\n24059\n24060\n24061\n24062\n24063\n24064\n24065\n24066\n24067\n24068\n24069\n24070\n24071\n24072\n24073\n24074\n24075\n24076\n24077\n24078\n24079\n24080\n24081\n24082\n24083\n24084\n24085\n24086\n24087\n24088\n24089\n24090\n24091\n24092\n24093\n24094\n24095\n24096\n24097\n24098\n24099\n24100\n24101\n24102\n24103\n24104\n24105\n24106\n24107\n24108\n24109\n24110\n24111\n24112\n24113\n24114\n24115\n24116\n24117\n24118\n24119\n24120\n24121\n24122\n24123\n24124\n24125\n24126\n24127\n24128\n24129\n24130\n24131\n24132\n24133\n24134\n24135\n24136\n24137\n24138\n24139\n24140\n24141\n24142\n24143\n24144\n24145\n24146\n24147\n24148\n24149\n24150\n24151\n24152\n24153\n24154\n24155\n24156\n24157\n24158\n24159\n24160\n24161\n24162\n24163\n24164\n24165\n24166\n24167\n24168\n24169\n24170\n24171\n24172\n24173\n24174\n24175\n24176\n24177\n24178\n24179\n24180\n24181\n24182\n24183\n24184\n24185\n24186\n24187\n24188\n24189\n24190\n24191\n24192\n24193\n24194\n24195\n24196\n24197\n24198\n24199\n24200\n24201\n24202\n24203\n24204\n24205\n24206\n24207\n24208\n24209\n24210\n24211\n24212\n24213\n24214\n24215\n24216\n24217\n24218\n24219\n24220\n24221\n24222\n24223\n24224\n24225\n24226\n24227\n24228\n24229\n24230\n24231\n24232\n24233\n24234\n24235\n24236\n24237\n24238\n24239\n24240\n24241\n24242\n24243\n24244\n24245\n24246\n24247\n24248\n24249\n24250\n24251\n24252\n24253\n24254\n24255\n24256\n24257\n24258\n24259\n24260\n24261\n24262\n24263\n24264\n24265\n24266\n24267\n24268\n24269\n24270\n24271\n24272\n24273\n24274\n24275\n24276\n24277\n24278\n24279\n24280\n24281\n24282\n24283\n24284\n24285\n24286\n24287\n24288\n24289\n24290\n24291\n24292\n24293\n24294\n24295\n24296\n24297\n24298\n24299\n24300\n24301\n24302\n24303\n24304\n24305\n24306\n24307\n24308\n24309\n24310\n24311\n24312\n24313\n24314\n24315\n24316\n24317\n24318\n24319\n24320\n24321\n24322\n24323\n24324\n24325\n24326\n24327\n24328\n24329\n24330\n24331\n24332\n24333\n24334\n24335\n24336\n24337\n24338\n24339\n24340\n24341\n24342\n24343\n24344\n24345\n24346\n24347\n24348\n24349\n24350\n24351\n24352\n24353\n24354\n24355\n24356\n24357\n24358\n24359\n24360\n24361\n24362\n24363\n24364\n24365\n24366\n24367\n24368\n24369\n24370\n24371\n24372\n24373\n24374\n24375\n24376\n24377\n24378\n24379\n24380\n24381\n24382\n24383\n24384\n24385\n24386\n24387\n24388\n24389\n24390\n24391\n24392\n24393\n24394\n24395\n24396\n24397\n24398\n24399\n24400\n24401\n24402\n24403\n24404\n24405\n24406\n24407\n24408\n24409\n24410\n24411\n24412\n24413\n24414\n24415\n24416\n24417\n24418\n24419\n24420\n24421\n24422\n24423\n24424\n24425\n24426\n24427\n24428\n24429\n24430\n24431\n24432\n24433\n24434\n24435\n24436\n24437\n24438\n24439\n24440\n24441\n24442\n24443\n24444\n24445\n24446\n24447\n24448\n24449\n24450\n24451\n24452\n24453\n24454\n24455\n24456\n24457\n24458\n24459\n24460\n24461\n24462\n24463\n24464\n24465\n24466\n24467\n24468\n24469\n24470\n24471\n24472\n24473\n24474\n24475\n24476\n24477\n24478\n24479\n24480\n24481\n24482\n24483\n24484\n24485\n24486\n24487\n24488\n24489\n24490\n24491\n24492\n24493\n24494\n24495\n24496\n24497\n24498\n24499\n24500\n24501\n24502\n24503\n24504\n24505\n24506\n24507\n24508\n24509\n24510\n24511\n24512\n24513\n24514\n24515\n24516\n24517\n24518\n24519\n24520\n24521\n24522\n24523\n24524\n24525\n24526\n24527\n24528\n24529\n24530\n24531\n24532\n24533\n24534\n24535\n24536\n24537\n24538\n24539\n24540\n24541\n24542\n24543\n24544\n24545\n24546\n24547\n24548\n24549\n24550\n24551\n24552\n24553\n24554\n24555\n24556\n24557\n24558\n24559\n24560\n24561\n24562\n24563\n24564\n24565\n24566\n24567\n24568\n24569\n24570\n24571\n24572\n24573\n24574\n24575\n24576\n24577\n24578\n24579\n24580\n24581\n24582\n24583\n24584\n24585\n24586\n24587\n24588\n24589\n24590\n24591\n24592\n24593\n24594\n24595\n24596\n24597\n24598\n24599\n24600\n24601\n24602\n24603\n24604\n24605\n24606\n24607\n24608\n24609\n24610\n24611\n24612\n24613\n24614\n24615\n24616\n24617\n24618\n24619\n24620\n24621\n24622\n24623\n24624\n24625\n24626\n24627\n24628\n24629\n24630\n24631\n24632\n24633\n24634\n24635\n24636\n24637\n24638\n24639\n24640\n24641\n24642\n24643\n24644\n24645\n24646\n24647\n24648\n24649\n24650\n24651\n24652\n24653\n24654\n24655\n24656\n24657\n24658\n24659\n24660\n24661\n24662\n24663\n24664\n24665\n24666\n24667\n24668\n24669\n24670\n24671\n24672\n24673\n24674\n24675\n24676\n24677\n24678\n24679\n24680\n24681\n24682\n24683\n24684\n24685\n24686\n24687\n24688\n24689\n24690\n24691\n24692\n24693\n24694\n24695\n24696\n24697\n24698\n24699\n24700\n24701\n24702\n24703\n24704\n24705\n24706\n24707\n24708\n24709\n24710\n24711\n24712\n24713\n24714\n24715\n24716\n24717\n24718\n24719\n24720\n24721\n24722\n24723\n24724\n24725\n24726\n24727\n24728\n24729\n24730\n24731\n24732\n24733\n24734\n24735\n24736\n24737\n24738\n24739\n24740\n24741\n24742\n24743\n24744\n24745\n24746\n24747\n24748\n24749\n24750\n24751\n24752\n24753\n24754\n24755\n24756\n24757\n24758\n24759\n24760\n24761\n24762\n24763\n24764\n24765\n24766\n24767\n24768\n24769\n24770\n24771\n24772\n24773\n24774\n24775\n24776\n24777\n24778\n24779\n24780\n24781\n24782\n24783\n24784\n24785\n24786\n24787\n24788\n24789\n24790\n24791\n24792\n24793\n24794\n24795\n24796\n24797\n24798\n24799\n24800\n24801\n24802\n24803\n24804\n24805\n24806\n24807\n24808\n24809\n24810\n24811\n24812\n24813\n24814\n24815\n24816\n24817\n24818\n24819\n24820\n24821\n24822\n24823\n24824\n24825\n24826\n24827\n24828\n24829\n24830\n24831\n24832\n24833\n24834\n24835\n24836\n24837\n24838\n24839\n24840\n24841\n24842\n24843\n24844\n24845\n24846\n24847\n24848\n24849\n24850\n24851\n24852\n24853\n24854\n24855\n24856\n24857\n24858\n24859\n24860\n24861\n24862\n24863\n24864\n24865\n24866\n24867\n24868\n24869\n24870\n24871\n24872\n24873\n24874\n24875\n24876\n24877\n24878\n24879\n24880\n24881\n24882\n24883\n24884\n24885\n24886\n24887\n24888\n24889\n24890\n24891\n24892\n24893\n24894\n24895\n24896\n24897\n24898\n24899\n24900\n24901\n24902\n24903\n24904\n24905\n24906\n24907\n24908\n24909\n24910\n24911\n24912\n24913\n24914\n24915\n24916\n24917\n24918\n24919\n24920\n24921\n24922\n24923\n24924\n24925\n24926\n24927\n24928\n24929\n24930\n24931\n24932\n24933\n24934\n24935\n24936\n24937\n24938\n24939\n24940\n24941\n24942\n24943\n24944\n24945\n24946\n24947\n24948\n24949\n24950\n24951\n24952\n24953\n24954\n24955\n24956\n24957\n24958\n24959\n24960\n24961\n24962\n24963\n24964\n24965\n24966\n24967\n24968\n24969\n24970\n24971\n24972\n24973\n24974\n24975\n24976\n24977\n24978\n24979\n24980\n24981\n24982\n24983\n24984\n24985\n24986\n24987\n24988\n24989\n24990\n24991\n24992\n24993\n24994\n24995\n24996\n24997\n24998\n24999\n25000\n"
    }
   ],
   "source": [
    "# for index, row in all_artist_id.iterrows():\n",
    "#     result = []\n",
    "#     print(index)\n",
    "#     id = row['ID']\n",
    "#     album = sp.artist_albums(id, album_type='album')\n",
    "#     album_id = [item['id'] for item in album['items'] if 'PH' in item['available_markets']]\n",
    "#     print(\"ALBUM\", album_id)\n",
    "#     result = result + album_id\n",
    "#     print(\"SOMETHING\", result)\n",
    "\n",
    "#     album = sp.artist_albums(id, album_type='single')\n",
    "#     album_id = [item['id'] for item in album['items'] if 'PH' in item['available_markets']]\n",
    "#     # print(\"SINGLES\", album_id)\n",
    "#     result = result + album_id\n",
    "\n",
    "#     album = sp.artist_albums(id, album_type='appears_on')\n",
    "#     album_id = [item['id'] for item in album['items'] if 'PH' in item['available_markets']]\n",
    "#     # print(\"Appears On\", album_id)\n",
    "#     result = result + album_id\n",
    "\n",
    "#     album = sp.artist_albums(id, album_type='compilation')\n",
    "#     album_id = [item['id'] for item in album['items'] if 'PH' in item['available_markets']]\n",
    "#     # print(\"Compilation On\", album_id)\n",
    "#     result = result + album_id\n",
    "\n",
    "#     all_artist_id.at[index, 'ALBUMS'] = result\n",
    "\n",
    "for index in range(25001,27798):\n",
    "    result = []\n",
    "    print(index)\n",
    "    id = all_artist_id.iloc[0]['ID']\n",
    "    album = sp.artist_albums(id, album_type='album')\n",
    "    album_id = [item['id'] for item in album['items'] if 'PH' in item['available_markets']]\n",
    "    result = result + album_id\n",
    "\n",
    "    album = sp.artist_albums(id, album_type='single')\n",
    "    album_id = [item['id'] for item in album['items'] if 'PH' in item['available_markets']]\n",
    "    # print(\"SINGLES\", album_id)\n",
    "    result = result + album_id\n",
    "\n",
    "    album = sp.artist_albums(id, album_type='appears_on')\n",
    "    album_id = [item['id'] for item in album['items'] if 'PH' in item['available_markets']]\n",
    "    # print(\"Appears On\", album_id)\n",
    "    result = result + album_id\n",
    "\n",
    "    album = sp.artist_albums(id, album_type='compilation')\n",
    "    album_id = [item['id'] for item in album['items'] if 'PH' in item['available_markets']]\n",
    "    # print(\"Compilation On\", album_id)\n",
    "    result = result + album_id\n",
    "\n",
    "    all_artist_id.at[index, 'ALBUMS'] = result"
   ]
  },
  {
   "cell_type": "code",
   "execution_count": 33,
   "metadata": {},
   "outputs": [
    {
     "output_type": "execute_result",
     "data": {
      "text/plain": "                           ID  \\\n0      5PwgSnrvg48DYvdsf2Y2ZD   \n1      2cez574BwRD00PGEbNl4SH   \n2      2vIKM7x5kKzKR9rIMBejxr   \n3      0yultMio5TntZCl8JRRibP   \n4      7CD4S5LN8BeM1MVjL7ASK4   \n...                       ...   \n27793  7fW1bbURcl5aOUvrCj4va2   \n27794  4OjU5UP0GFWeniBC82sGBY   \n27795  1t6esaYFDM9fOnvjV31v6r   \n27796  0XOSmu9Qn1agQULUVe0dAK   \n27797  7tKpXx21KVUOR6vvDs6xtg   \n\n                                                  ARTIST  \\\n0                       \"Cats\" 1981 Original London Cast   \n1                              \"Cats\" 1983 Broadway Cast   \n2            \"Fiddler On The Roof” Motion Picture Chorus   \n3         \"Fiddler On The Roof” Motion Picture Orchestra   \n4      \"Joseph And The Amazing Technicolor Dreamcoat\"...   \n...                                                  ...   \n27793                                  Sophia Montecarlo   \n27794                                      Kitchie Nadal   \n27795                                     Robbie Navarro   \n27796                                      Iñigo Pascual   \n27797                                I Belong to the Zoo   \n\n                                                  ALBUMS  \n0      ['1B1D8rJ34fIaWNAQ2uQffP', '66UrYsmX0lRzAOwLxk...  \n1      ['1B1D8rJ34fIaWNAQ2uQffP', '66UrYsmX0lRzAOwLxk...  \n2      ['1B1D8rJ34fIaWNAQ2uQffP', '66UrYsmX0lRzAOwLxk...  \n3      ['1B1D8rJ34fIaWNAQ2uQffP', '66UrYsmX0lRzAOwLxk...  \n4      ['1B1D8rJ34fIaWNAQ2uQffP', '66UrYsmX0lRzAOwLxk...  \n...                                                  ...  \n27793                                                NaN  \n27794                                                NaN  \n27795                                                NaN  \n27796                                                NaN  \n27797                                                NaN  \n\n[27798 rows x 3 columns]",
      "text/html": "<div>\n<style scoped>\n    .dataframe tbody tr th:only-of-type {\n        vertical-align: middle;\n    }\n\n    .dataframe tbody tr th {\n        vertical-align: top;\n    }\n\n    .dataframe thead th {\n        text-align: right;\n    }\n</style>\n<table border=\"1\" class=\"dataframe\">\n  <thead>\n    <tr style=\"text-align: right;\">\n      <th></th>\n      <th>ID</th>\n      <th>ARTIST</th>\n      <th>ALBUMS</th>\n    </tr>\n  </thead>\n  <tbody>\n    <tr>\n      <th>0</th>\n      <td>5PwgSnrvg48DYvdsf2Y2ZD</td>\n      <td>\"Cats\" 1981 Original London Cast</td>\n      <td>['1B1D8rJ34fIaWNAQ2uQffP', '66UrYsmX0lRzAOwLxk...</td>\n    </tr>\n    <tr>\n      <th>1</th>\n      <td>2cez574BwRD00PGEbNl4SH</td>\n      <td>\"Cats\" 1983 Broadway Cast</td>\n      <td>['1B1D8rJ34fIaWNAQ2uQffP', '66UrYsmX0lRzAOwLxk...</td>\n    </tr>\n    <tr>\n      <th>2</th>\n      <td>2vIKM7x5kKzKR9rIMBejxr</td>\n      <td>\"Fiddler On The Roof” Motion Picture Chorus</td>\n      <td>['1B1D8rJ34fIaWNAQ2uQffP', '66UrYsmX0lRzAOwLxk...</td>\n    </tr>\n    <tr>\n      <th>3</th>\n      <td>0yultMio5TntZCl8JRRibP</td>\n      <td>\"Fiddler On The Roof” Motion Picture Orchestra</td>\n      <td>['1B1D8rJ34fIaWNAQ2uQffP', '66UrYsmX0lRzAOwLxk...</td>\n    </tr>\n    <tr>\n      <th>4</th>\n      <td>7CD4S5LN8BeM1MVjL7ASK4</td>\n      <td>\"Joseph And The Amazing Technicolor Dreamcoat\"...</td>\n      <td>['1B1D8rJ34fIaWNAQ2uQffP', '66UrYsmX0lRzAOwLxk...</td>\n    </tr>\n    <tr>\n      <th>...</th>\n      <td>...</td>\n      <td>...</td>\n      <td>...</td>\n    </tr>\n    <tr>\n      <th>27793</th>\n      <td>7fW1bbURcl5aOUvrCj4va2</td>\n      <td>Sophia Montecarlo</td>\n      <td>NaN</td>\n    </tr>\n    <tr>\n      <th>27794</th>\n      <td>4OjU5UP0GFWeniBC82sGBY</td>\n      <td>Kitchie Nadal</td>\n      <td>NaN</td>\n    </tr>\n    <tr>\n      <th>27795</th>\n      <td>1t6esaYFDM9fOnvjV31v6r</td>\n      <td>Robbie Navarro</td>\n      <td>NaN</td>\n    </tr>\n    <tr>\n      <th>27796</th>\n      <td>0XOSmu9Qn1agQULUVe0dAK</td>\n      <td>Iñigo Pascual</td>\n      <td>NaN</td>\n    </tr>\n    <tr>\n      <th>27797</th>\n      <td>7tKpXx21KVUOR6vvDs6xtg</td>\n      <td>I Belong to the Zoo</td>\n      <td>NaN</td>\n    </tr>\n  </tbody>\n</table>\n<p>27798 rows × 3 columns</p>\n</div>"
     },
     "metadata": {},
     "execution_count": 33
    }
   ],
   "source": [
    "all_artist_id"
   ]
  },
  {
   "cell_type": "code",
   "execution_count": 34,
   "metadata": {
    "tags": []
   },
   "outputs": [],
   "source": [
    "all_artist_id.to_csv('all_artist_album.csv', index=False)"
   ]
  },
  {
   "cell_type": "code",
   "execution_count": 30,
   "metadata": {},
   "outputs": [],
   "source": [
    "all_artist__album_id = pd.read_csv('all_artist_album.csv')"
   ]
  },
  {
   "cell_type": "code",
   "execution_count": 31,
   "metadata": {},
   "outputs": [
    {
     "output_type": "execute_result",
     "data": {
      "text/plain": "                           ID  \\\n0      5PwgSnrvg48DYvdsf2Y2ZD   \n1      2cez574BwRD00PGEbNl4SH   \n2      2vIKM7x5kKzKR9rIMBejxr   \n3      0yultMio5TntZCl8JRRibP   \n4      7CD4S5LN8BeM1MVjL7ASK4   \n...                       ...   \n27793  7fW1bbURcl5aOUvrCj4va2   \n27794  4OjU5UP0GFWeniBC82sGBY   \n27795  1t6esaYFDM9fOnvjV31v6r   \n27796  0XOSmu9Qn1agQULUVe0dAK   \n27797  7tKpXx21KVUOR6vvDs6xtg   \n\n                                                  ARTIST  \\\n0                       \"Cats\" 1981 Original London Cast   \n1                              \"Cats\" 1983 Broadway Cast   \n2            \"Fiddler On The Roof” Motion Picture Chorus   \n3         \"Fiddler On The Roof” Motion Picture Orchestra   \n4      \"Joseph And The Amazing Technicolor Dreamcoat\"...   \n...                                                  ...   \n27793                                  Sophia Montecarlo   \n27794                                      Kitchie Nadal   \n27795                                     Robbie Navarro   \n27796                                      Iñigo Pascual   \n27797                                I Belong to the Zoo   \n\n                                                  ALBUMS  \n0      ['1B1D8rJ34fIaWNAQ2uQffP', '66UrYsmX0lRzAOwLxk...  \n1      ['1B1D8rJ34fIaWNAQ2uQffP', '66UrYsmX0lRzAOwLxk...  \n2      ['1B1D8rJ34fIaWNAQ2uQffP', '66UrYsmX0lRzAOwLxk...  \n3      ['1B1D8rJ34fIaWNAQ2uQffP', '66UrYsmX0lRzAOwLxk...  \n4      ['1B1D8rJ34fIaWNAQ2uQffP', '66UrYsmX0lRzAOwLxk...  \n...                                                  ...  \n27793                                                NaN  \n27794                                                NaN  \n27795                                                NaN  \n27796                                                NaN  \n27797                                                NaN  \n\n[27798 rows x 3 columns]",
      "text/html": "<div>\n<style scoped>\n    .dataframe tbody tr th:only-of-type {\n        vertical-align: middle;\n    }\n\n    .dataframe tbody tr th {\n        vertical-align: top;\n    }\n\n    .dataframe thead th {\n        text-align: right;\n    }\n</style>\n<table border=\"1\" class=\"dataframe\">\n  <thead>\n    <tr style=\"text-align: right;\">\n      <th></th>\n      <th>ID</th>\n      <th>ARTIST</th>\n      <th>ALBUMS</th>\n    </tr>\n  </thead>\n  <tbody>\n    <tr>\n      <th>0</th>\n      <td>5PwgSnrvg48DYvdsf2Y2ZD</td>\n      <td>\"Cats\" 1981 Original London Cast</td>\n      <td>['1B1D8rJ34fIaWNAQ2uQffP', '66UrYsmX0lRzAOwLxk...</td>\n    </tr>\n    <tr>\n      <th>1</th>\n      <td>2cez574BwRD00PGEbNl4SH</td>\n      <td>\"Cats\" 1983 Broadway Cast</td>\n      <td>['1B1D8rJ34fIaWNAQ2uQffP', '66UrYsmX0lRzAOwLxk...</td>\n    </tr>\n    <tr>\n      <th>2</th>\n      <td>2vIKM7x5kKzKR9rIMBejxr</td>\n      <td>\"Fiddler On The Roof” Motion Picture Chorus</td>\n      <td>['1B1D8rJ34fIaWNAQ2uQffP', '66UrYsmX0lRzAOwLxk...</td>\n    </tr>\n    <tr>\n      <th>3</th>\n      <td>0yultMio5TntZCl8JRRibP</td>\n      <td>\"Fiddler On The Roof” Motion Picture Orchestra</td>\n      <td>['1B1D8rJ34fIaWNAQ2uQffP', '66UrYsmX0lRzAOwLxk...</td>\n    </tr>\n    <tr>\n      <th>4</th>\n      <td>7CD4S5LN8BeM1MVjL7ASK4</td>\n      <td>\"Joseph And The Amazing Technicolor Dreamcoat\"...</td>\n      <td>['1B1D8rJ34fIaWNAQ2uQffP', '66UrYsmX0lRzAOwLxk...</td>\n    </tr>\n    <tr>\n      <th>...</th>\n      <td>...</td>\n      <td>...</td>\n      <td>...</td>\n    </tr>\n    <tr>\n      <th>27793</th>\n      <td>7fW1bbURcl5aOUvrCj4va2</td>\n      <td>Sophia Montecarlo</td>\n      <td>NaN</td>\n    </tr>\n    <tr>\n      <th>27794</th>\n      <td>4OjU5UP0GFWeniBC82sGBY</td>\n      <td>Kitchie Nadal</td>\n      <td>NaN</td>\n    </tr>\n    <tr>\n      <th>27795</th>\n      <td>1t6esaYFDM9fOnvjV31v6r</td>\n      <td>Robbie Navarro</td>\n      <td>NaN</td>\n    </tr>\n    <tr>\n      <th>27796</th>\n      <td>0XOSmu9Qn1agQULUVe0dAK</td>\n      <td>Iñigo Pascual</td>\n      <td>NaN</td>\n    </tr>\n    <tr>\n      <th>27797</th>\n      <td>7tKpXx21KVUOR6vvDs6xtg</td>\n      <td>I Belong to the Zoo</td>\n      <td>NaN</td>\n    </tr>\n  </tbody>\n</table>\n<p>27798 rows × 3 columns</p>\n</div>"
     },
     "metadata": {},
     "execution_count": 31
    }
   ],
   "source": [
    "all_artist__album_id"
   ]
  },
  {
   "cell_type": "code",
   "execution_count": 57,
   "metadata": {
    "tags": []
   },
   "outputs": [
    {
     "output_type": "stream",
     "name": "stdout",
     "text": "[\n"
    }
   ],
   "source": [
    "albums = all_artist_id.iloc[22907]['ALBUMS']\n",
    "print(albums[0])"
   ]
  },
  {
   "cell_type": "code",
   "execution_count": 56,
   "metadata": {
    "tags": []
   },
   "outputs": [
    {
     "output_type": "execute_result",
     "data": {
      "text/plain": "740"
     },
     "metadata": {},
     "execution_count": 56
    }
   ],
   "source": [
    "# x = [sp.album(album)['name'] for album in albums]\n",
    "len(albums)"
   ]
  },
  {
   "cell_type": "code",
   "execution_count": 153,
   "metadata": {
    "tags": []
   },
   "outputs": [
    {
     "output_type": "stream",
     "name": "stdout",
     "text": "['1B1D8rJ34fIaWNAQ2uQffP', '66UrYsmX0lRzAOwLxkPgjl', '6xacl8ZZIFmVGErcUovvhy', '1rKa4RNSiyQBIjZ8ET54DQ', '3qqiudxVW3GmigrTHRUcLf', '6lfGhIVE8by4922uwuCxla']\n"
    }
   ],
   "source": [
    "list = all_artist_id.loc[all_artist_id['ID'] == '5PwgSnrvg48DYvdsf2Y2ZD']['ALBUMS']\n",
    "for item in list:\n",
    "    print(item)"
   ]
  },
  {
   "cell_type": "code",
   "execution_count": 122,
   "metadata": {
    "tags": []
   },
   "outputs": [
    {
     "output_type": "execute_result",
     "data": {
      "text/plain": "['1B1D8rJ34fIaWNAQ2uQffP', '66UrYsmX0lRzAOwLxkPgjl']"
     },
     "metadata": {},
     "execution_count": 122
    }
   ],
   "source": [
    "album = sp.artist_albums(all_artist_id['ID'][0], album_type='album')\n",
    "album_id = [item['id'] for item in album['items'] if 'PH' in item['available_markets']]\n",
    "album_id\n",
    "\n",
    "\n"
   ]
  }
 ]
}