{
 "metadata": {
  "language_info": {
   "codemirror_mode": {
    "name": "ipython",
    "version": 3
   },
   "file_extension": ".py",
   "mimetype": "text/x-python",
   "name": "python",
   "nbconvert_exporter": "python",
   "pygments_lexer": "ipython3",
   "version": "3.7.4-final"
  },
  "orig_nbformat": 2,
  "kernelspec": {
   "name": "python_defaultSpec_1598026756519",
   "display_name": "Python 3.7.4 64-bit"
  }
 },
 "nbformat": 4,
 "nbformat_minor": 2,
 "cells": [
  {
   "cell_type": "markdown",
   "metadata": {},
   "source": [
    "SPOTIFY EDA"
   ]
  },
  {
   "cell_type": "code",
   "execution_count": null,
   "metadata": {},
   "outputs": [],
   "source": [
    "import pandas as pd\n",
    "\n",
    "import spotipy\n",
    "import json\n",
    "import csv\n",
    "from spotipy.oauth2 import SpotifyClientCredentials"
   ]
  },
  {
   "cell_type": "markdown",
   "metadata": {},
   "source": [
    "I will first load the data_by_artist.csv to a dataframe"
   ]
  },
  {
   "cell_type": "code",
   "execution_count": 115,
   "metadata": {},
   "outputs": [
    {
     "output_type": "execute_result",
     "data": {
      "text/plain": "       acousticness  danceability   duration_ms        energy  \\\ncount  27621.000000  27621.000000  2.762100e+04  27621.000000   \nmean       0.504651      0.544411  2.374886e+05      0.493708   \nstd        0.369788      0.176098  1.209766e+05      0.253566   \nmin        0.000000      0.000000  1.879550e+04      0.000000   \n25%        0.128784      0.429000  1.819730e+05      0.282000   \n50%        0.493000      0.555667  2.176930e+05      0.501000   \n75%        0.901000      0.673000  2.660000e+05      0.699000   \nmax        0.996000      0.986000  5.403500e+06      1.000000   \n\n       instrumentalness      liveness      loudness   speechiness  \\\ncount      27621.000000  27621.000000  27621.000000  27621.000000   \nmean           0.166661      0.203603    -11.222480      0.096180   \nstd            0.292133      0.140311      5.819377      0.116062   \nmin            0.000000      0.000000    -60.000000      0.000000   \n25%            0.000004      0.111667    -14.097000      0.039500   \n50%            0.001610      0.162850    -10.135333      0.052644   \n75%            0.188000      0.247371     -6.906000      0.098000   \nmax            1.000000      0.991000      1.342000      0.964000   \n\n              tempo       valence    popularity           key          mode  \\\ncount  27621.000000  27621.000000  27621.000000  27621.000000  27621.000000   \nmean     115.439232      0.516032     34.288478      5.409942      0.767170   \nstd       25.138470      0.243304     22.104194      3.485676      0.422643   \nmin        0.000000      0.000000      0.000000      0.000000      0.000000   \n25%       98.725500      0.334000     13.511111      2.000000      1.000000   \n50%      114.950000      0.528500     39.000000      6.000000      1.000000   \n75%      129.612647      0.705000     51.000000      8.000000      1.000000   \nmax      217.743000      0.991000     95.000000     11.000000      1.000000   \n\n              count  \ncount  27621.000000  \nmean      14.313493  \nstd       53.867027  \nmin        1.000000  \n25%        2.000000  \n50%        3.000000  \n75%        9.000000  \nmax     3172.000000  ",
      "text/html": "<div>\n<style scoped>\n    .dataframe tbody tr th:only-of-type {\n        vertical-align: middle;\n    }\n\n    .dataframe tbody tr th {\n        vertical-align: top;\n    }\n\n    .dataframe thead th {\n        text-align: right;\n    }\n</style>\n<table border=\"1\" class=\"dataframe\">\n  <thead>\n    <tr style=\"text-align: right;\">\n      <th></th>\n      <th>acousticness</th>\n      <th>danceability</th>\n      <th>duration_ms</th>\n      <th>energy</th>\n      <th>instrumentalness</th>\n      <th>liveness</th>\n      <th>loudness</th>\n      <th>speechiness</th>\n      <th>tempo</th>\n      <th>valence</th>\n      <th>popularity</th>\n      <th>key</th>\n      <th>mode</th>\n      <th>count</th>\n    </tr>\n  </thead>\n  <tbody>\n    <tr>\n      <th>count</th>\n      <td>27621.000000</td>\n      <td>27621.000000</td>\n      <td>2.762100e+04</td>\n      <td>27621.000000</td>\n      <td>27621.000000</td>\n      <td>27621.000000</td>\n      <td>27621.000000</td>\n      <td>27621.000000</td>\n      <td>27621.000000</td>\n      <td>27621.000000</td>\n      <td>27621.000000</td>\n      <td>27621.000000</td>\n      <td>27621.000000</td>\n      <td>27621.000000</td>\n    </tr>\n    <tr>\n      <th>mean</th>\n      <td>0.504651</td>\n      <td>0.544411</td>\n      <td>2.374886e+05</td>\n      <td>0.493708</td>\n      <td>0.166661</td>\n      <td>0.203603</td>\n      <td>-11.222480</td>\n      <td>0.096180</td>\n      <td>115.439232</td>\n      <td>0.516032</td>\n      <td>34.288478</td>\n      <td>5.409942</td>\n      <td>0.767170</td>\n      <td>14.313493</td>\n    </tr>\n    <tr>\n      <th>std</th>\n      <td>0.369788</td>\n      <td>0.176098</td>\n      <td>1.209766e+05</td>\n      <td>0.253566</td>\n      <td>0.292133</td>\n      <td>0.140311</td>\n      <td>5.819377</td>\n      <td>0.116062</td>\n      <td>25.138470</td>\n      <td>0.243304</td>\n      <td>22.104194</td>\n      <td>3.485676</td>\n      <td>0.422643</td>\n      <td>53.867027</td>\n    </tr>\n    <tr>\n      <th>min</th>\n      <td>0.000000</td>\n      <td>0.000000</td>\n      <td>1.879550e+04</td>\n      <td>0.000000</td>\n      <td>0.000000</td>\n      <td>0.000000</td>\n      <td>-60.000000</td>\n      <td>0.000000</td>\n      <td>0.000000</td>\n      <td>0.000000</td>\n      <td>0.000000</td>\n      <td>0.000000</td>\n      <td>0.000000</td>\n      <td>1.000000</td>\n    </tr>\n    <tr>\n      <th>25%</th>\n      <td>0.128784</td>\n      <td>0.429000</td>\n      <td>1.819730e+05</td>\n      <td>0.282000</td>\n      <td>0.000004</td>\n      <td>0.111667</td>\n      <td>-14.097000</td>\n      <td>0.039500</td>\n      <td>98.725500</td>\n      <td>0.334000</td>\n      <td>13.511111</td>\n      <td>2.000000</td>\n      <td>1.000000</td>\n      <td>2.000000</td>\n    </tr>\n    <tr>\n      <th>50%</th>\n      <td>0.493000</td>\n      <td>0.555667</td>\n      <td>2.176930e+05</td>\n      <td>0.501000</td>\n      <td>0.001610</td>\n      <td>0.162850</td>\n      <td>-10.135333</td>\n      <td>0.052644</td>\n      <td>114.950000</td>\n      <td>0.528500</td>\n      <td>39.000000</td>\n      <td>6.000000</td>\n      <td>1.000000</td>\n      <td>3.000000</td>\n    </tr>\n    <tr>\n      <th>75%</th>\n      <td>0.901000</td>\n      <td>0.673000</td>\n      <td>2.660000e+05</td>\n      <td>0.699000</td>\n      <td>0.188000</td>\n      <td>0.247371</td>\n      <td>-6.906000</td>\n      <td>0.098000</td>\n      <td>129.612647</td>\n      <td>0.705000</td>\n      <td>51.000000</td>\n      <td>8.000000</td>\n      <td>1.000000</td>\n      <td>9.000000</td>\n    </tr>\n    <tr>\n      <th>max</th>\n      <td>0.996000</td>\n      <td>0.986000</td>\n      <td>5.403500e+06</td>\n      <td>1.000000</td>\n      <td>1.000000</td>\n      <td>0.991000</td>\n      <td>1.342000</td>\n      <td>0.964000</td>\n      <td>217.743000</td>\n      <td>0.991000</td>\n      <td>95.000000</td>\n      <td>11.000000</td>\n      <td>1.000000</td>\n      <td>3172.000000</td>\n    </tr>\n  </tbody>\n</table>\n</div>"
     },
     "metadata": {},
     "execution_count": 115
    }
   ],
   "source": [
    "artist_df = pd.read_csv('songs_dataset/data_by_artist.csv')\n",
    "artist_df.describe()"
   ]
  },
  {
   "cell_type": "code",
   "execution_count": null,
   "metadata": {},
   "outputs": [],
   "source": [
    "# INITIALIZE SPOTIFY API CREDS\n",
    "credentials = json.load(open('spotify_auth/authorization.json'))\n",
    "client_id = credentials['client_id']\n",
    "client_secret = credentials['client_secret']\n",
    "\n",
    "client_credentials_manager = SpotifyClientCredentials(client_id=client_id,client_secret=client_secret)\n",
    "\n",
    "sp = spotipy.Spotify(client_credentials_manager=client_credentials_manager)"
   ]
  },
  {
   "cell_type": "code",
   "execution_count": null,
   "metadata": {},
   "outputs": [],
   "source": [
    "no_result = []\n",
    "artist_id_list = []\n",
    "\n",
    "def get_artist_id(artist_name, limit):\n",
    "    search_result = sp.search(artist_name, limit=limit, offset=0, type='artist', market=None)\n",
    "\n",
    "    if not search_result['artists']['items']: \n",
    "        no_result.append(artist_name)\n",
    "        return\n",
    "    for index in range(0,len(search_result['artists']['items'])):\n",
    "        result = search_result['artists']['items'][index]\n",
    "        if result['name'].lower() == artist_name.lower():\n",
    "            print('RESULT FOUND')\n",
    "            artist = {'ID': search_result['artists']['items'][index]['id'], 'ARTIST': artist_name}\n",
    "            artist_id_list.append(artist)\n",
    "            break\n",
    "        if index == len(search_result['artists']['items']) - 1:\n",
    "            no_result.append(artist_name)\n",
    "            print('NO RESULT FOUND', artist_name)\n"
   ]
  },
  {
   "cell_type": "code",
   "execution_count": null,
   "metadata": {
    "tags": [
     "outputPrepend"
    ]
   },
   "outputs": [],
   "source": [
    "for artist in artist_df['artists']:\n",
    "    get_artist_id(artist, 20)"
   ]
  },
  {
   "cell_type": "code",
   "execution_count": null,
   "metadata": {
    "tags": []
   },
   "outputs": [],
   "source": [
    "with open('artist_id.csv', mode='w', encoding='utf-8') as csv_file:\n",
    "    field_names = ['ID', 'ARTIST']\n",
    "    writer = csv.DictWriter(csv_file, fieldnames=field_names)\n",
    "    writer.writeheader()\n",
    "    writer.writerows(artist_id_list)\n",
    "        "
   ]
  },
  {
   "cell_type": "code",
   "execution_count": 116,
   "metadata": {},
   "outputs": [
    {
     "output_type": "execute_result",
     "data": {
      "text/plain": "153"
     },
     "metadata": {},
     "execution_count": 116
    }
   ],
   "source": [
    "len(no_result)"
   ]
  },
  {
   "cell_type": "code",
   "execution_count": 117,
   "metadata": {},
   "outputs": [
    {
     "output_type": "execute_result",
     "data": {
      "text/plain": "27468"
     },
     "metadata": {},
     "execution_count": 117
    }
   ],
   "source": [
    "len(artist_id_list)"
   ]
  }
 ]
}